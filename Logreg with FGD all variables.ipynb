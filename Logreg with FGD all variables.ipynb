{
 "cells": [
  {
   "cell_type": "code",
   "execution_count": 1,
   "metadata": {},
   "outputs": [],
   "source": [
    "import pandas as pd\n",
    "import numpy as np\n",
    "import matplotlib.pyplot as plt\n",
    "from sklearn.datasets import make_classification"
   ]
  },
  {
   "cell_type": "code",
   "execution_count": 2,
   "metadata": {},
   "outputs": [
    {
     "data": {
      "text/plain": [
       "((2000, 15), (2000,))"
      ]
     },
     "execution_count": 2,
     "metadata": {},
     "output_type": "execute_result"
    }
   ],
   "source": [
    "X, y = make_classification(n_samples=2000, n_features=15, n_classes=2)\n",
    "X.shape, y.shape"
   ]
  },
  {
   "cell_type": "code",
   "execution_count": 3,
   "metadata": {},
   "outputs": [],
   "source": [
    "# X = np.hstack([np.ones((1000, 1)), X]) # to add intercept"
   ]
  },
  {
   "cell_type": "code",
   "execution_count": 4,
   "metadata": {},
   "outputs": [
    {
     "data": {
      "text/plain": [
       "(array([ 0.01591941,  0.01356525,  0.02494744,  0.00020762,  0.01050833,\n",
       "         0.00616218, -0.01490469,  0.02166403,  0.02961345,  0.01968115,\n",
       "        -0.01737201,  0.02163154, -0.05088175,  0.01878491, -0.02258619]),\n",
       " array([1.01027516, 0.99715042, 1.2175409 , 1.00852044, 1.20121197,\n",
       "        0.96742793, 0.9913056 , 1.01978446, 1.27241581, 0.98808174,\n",
       "        0.98493146, 1.01879564, 1.01522904, 0.99458642, 0.91545871]))"
      ]
     },
     "execution_count": 4,
     "metadata": {},
     "output_type": "execute_result"
    }
   ],
   "source": [
    "X.mean(axis=0), X.std(axis=0) # no need to standardize"
   ]
  },
  {
   "cell_type": "markdown",
   "metadata": {},
   "source": [
    "## My Logistic Regression Class realization"
   ]
  },
  {
   "cell_type": "markdown",
   "metadata": {},
   "source": [
    "### Features to add:\n",
    "- <b>Different types of gradient descent (GD) </b>\n",
    "    - Full GD (already implemented)\n",
    "    - stochastic GD (SGD) one random object used to find gradient\n",
    "    - stochastic average SAGD (several random objects used to find gradient)\n",
    "    \n",
    "- <b>Different loss functions </b>\n",
    "    - Logloss (already implemented)\n",
    "    - MSE :) for fun\n",
    "- <b>Info about model </b>\n",
    "    - Coefficients, intercept, parameters set (learning rate, regularization)\n",
    "    - Stats (p-values, confidence intervals, model adequacy)\n",
    "    - Quality metrics w\n",
    "- <b> Marginal Effects (ME) </b>\n",
    "        - ME for each factor (done)\n",
    "        - ME at means, median, at any factors given\n",
    "        - average ME (AME) for each factor\n",
    "- <b> Non-linear factors </b>\n",
    "        - ME for them also"
   ]
  },
  {
   "cell_type": "code",
   "execution_count": 5,
   "metadata": {},
   "outputs": [],
   "source": [
    "class Logreg:\n",
    "    def __init__(self, learning_rate=0.001, iterations=2000, C=2.0):\n",
    "        self.learning_rate = learning_rate\n",
    "        self.iterations = iterations\n",
    "        self.C = C\n",
    "        self.weights = None\n",
    "        self.intercept = None\n",
    "        \n",
    "        # history\n",
    "        self.iters_list = []\n",
    "        self.loss_list = []\n",
    "    \n",
    "    def fit(self, X, y):\n",
    "        # number of observations\n",
    "        n = len(y)\n",
    "        # number of features\n",
    "        k = X.shape[1]\n",
    "        \n",
    "        # recreate history variables in case we fitted model before\n",
    "        self.iters_list = []\n",
    "        self.loss_list = []\n",
    "        \n",
    "        # 1. Initialize weights\n",
    "        self.weights = np.zeros(k)\n",
    "        self.intercept = 0\n",
    "        \n",
    "        for iteration in range(self.iterations):\n",
    "            # 2 Predict\n",
    "            z = np.dot(X, self.weights) + self.intercept\n",
    "            y_hat = 1 / (1 + np.exp(-z))\n",
    "            # 3 Calculate logloss\n",
    "            #logloss = np.sum(-y * np.log(y_hat) - (1 - y) * np.log(1 - y_hat))\n",
    "            logloss = np.sum(np.log(1 + np.exp(- y * y_hat))) + self.C *(np.sum(self.weights) +self.intercept)\n",
    "        \n",
    "            # 4 Derivative by weights\n",
    "            derivative_weights = (1 / n) * np.dot(X.T, (y_hat - y)) # (a - y) * x\n",
    "            derivative_intercept = (1 / n) * np.sum(y_hat - y)\n",
    "\n",
    "            # 5 Update weights\n",
    "            self.weights -= self.learning_rate * (derivative_weights + self.C * (self.weights**2))\n",
    "            self.intercept -= self.learning_rate * (derivative_intercept + self.C * (self.intercept**2))\n",
    "            \n",
    "            #print('Iteration:', iteration, 'Total logLoss =', logloss)\n",
    "            \n",
    "            # history update\n",
    "            self.iters_list.append(iteration)\n",
    "            self.loss_list.append(logloss)\n",
    "            # 6 Repeat\n",
    "    \n",
    "\n",
    "    def predict(self, X):\n",
    "        z = np.dot(X, self.weights) + self.intercept\n",
    "        pred = 1 / (1 + np.exp(-z))\n",
    "        return np.array([1 if i > 0.5 else 0 for i in pred])\n",
    "    \n",
    "    def predict_proba(self, X):\n",
    "        z = np.dot(X, self.weights) + self.intercept\n",
    "        return 1 / (1 + np.exp(-z))\n",
    "    \n",
    "    def marginal_effects(self, X, option='all'):\n",
    "        n, k = X.shape\n",
    "        if option == 'all':\n",
    "            z = np.dot(X, self.weights) + self.intercept\n",
    "            return np.dot((np.exp(-z) / (1 + np.exp(-z))**2).reshape(n, 1), logreg.weights.reshape(k, 1).T)\n",
    "        elif option == 'at_means':\n",
    "            z = np.dot(logreg.weights, np.mean(X, axis=0))\n",
    "            return np.dot((np.exp(-z) / (1 + np.exp(-z))**2), logreg.weights)\n",
    "        elif option == 'at_median':\n",
    "            z = np.dot(logreg.weights, np.median(X, axis=0))\n",
    "            return np.dot((np.exp(-z) / (1 + np.exp(-z))**2), logreg.weights)\n",
    "        else:\n",
    "            return 'Specify one of the following options: all, at_means or at_median'"
   ]
  },
  {
   "cell_type": "markdown",
   "metadata": {},
   "source": [
    "### Instantiate, Fit and Predict"
   ]
  },
  {
   "cell_type": "code",
   "execution_count": 6,
   "metadata": {},
   "outputs": [],
   "source": [
    "logreg = Logreg(C=1.0)"
   ]
  },
  {
   "cell_type": "code",
   "execution_count": 7,
   "metadata": {},
   "outputs": [],
   "source": [
    "from sklearn.preprocessing import scale"
   ]
  },
  {
   "cell_type": "code",
   "execution_count": 8,
   "metadata": {},
   "outputs": [],
   "source": [
    "X_scaled = scale(X)"
   ]
  },
  {
   "cell_type": "code",
   "execution_count": 9,
   "metadata": {},
   "outputs": [],
   "source": [
    "logreg.fit(X, y)"
   ]
  },
  {
   "cell_type": "code",
   "execution_count": 10,
   "metadata": {},
   "outputs": [
    {
     "data": {
      "text/plain": [
       "array([0, 1])"
      ]
     },
     "execution_count": 10,
     "metadata": {},
     "output_type": "execute_result"
    }
   ],
   "source": [
    "mine_pred = logreg.predict(X)\n",
    "np.unique(mine_pred)"
   ]
  },
  {
   "cell_type": "markdown",
   "metadata": {},
   "source": [
    "#### Loss graph by iteration"
   ]
  },
  {
   "cell_type": "code",
   "execution_count": 11,
   "metadata": {},
   "outputs": [
    {
     "data": {
      "text/plain": [
       "[<matplotlib.lines.Line2D at 0x215ec943208>]"
      ]
     },
     "execution_count": 11,
     "metadata": {},
     "output_type": "execute_result"
    },
    {
     "data": {
      "image/png": "[encoded data removed]",
      "text/plain": [
       "<Figure size 432x288 with 1 Axes>"
      ]
     },
     "metadata": {
      "needs_background": "light"
     },
     "output_type": "display_data"
    }
   ],
   "source": [
    "plt.plot(logreg.iters_list, logreg.loss_list)"
   ]
  },
  {
   "cell_type": "markdown",
   "metadata": {},
   "source": [
    "#### Marginal effects for factors"
   ]
  },
  {
   "cell_type": "code",
   "execution_count": 12,
   "metadata": {},
   "outputs": [],
   "source": [
    "marginal_effects = logreg.marginal_effects(X)"
   ]
  },
  {
   "cell_type": "code",
   "execution_count": 13,
   "metadata": {},
   "outputs": [
    {
     "data": {
      "text/plain": [
       "(2000, 15)"
      ]
     },
     "execution_count": 13,
     "metadata": {},
     "output_type": "execute_result"
    }
   ],
   "source": [
    "marginal_effects.shape"
   ]
  },
  {
   "cell_type": "code",
   "execution_count": 14,
   "metadata": {},
   "outputs": [
    {
     "data": {
      "text/plain": [
       "array([0.00031003, 0.00029821, 0.00040922, ..., 0.0003018 , 0.00038153,\n",
       "       0.00038048])"
      ]
     },
     "execution_count": 14,
     "metadata": {},
     "output_type": "execute_result"
    }
   ],
   "source": [
    "marginal_effects[:, 0] # for X1 factor"
   ]
  },
  {
   "cell_type": "code",
   "execution_count": 15,
   "metadata": {},
   "outputs": [
    {
     "data": {
      "text/plain": [
       "array([ 0.00031003,  0.0052431 ,  0.05972568,  0.00028877,  0.07475159,\n",
       "       -0.00172586,  0.00428575,  0.00010343, -0.01984868, -0.00210949,\n",
       "       -0.00138441, -0.00101108,  0.00110572, -0.00159025, -0.0357103 ])"
      ]
     },
     "execution_count": 15,
     "metadata": {},
     "output_type": "execute_result"
    }
   ],
   "source": [
    "marginal_effects[0, :] # for all factors for the first observation"
   ]
  },
  {
   "cell_type": "code",
   "execution_count": 16,
   "metadata": {},
   "outputs": [
    {
     "data": {
      "text/plain": [
       "array([ 0.0004548 ,  0.00769126,  0.0876135 ,  0.00042361,  0.10965548,\n",
       "       -0.00253172,  0.00628691,  0.00015172, -0.02911665, -0.00309447,\n",
       "       -0.00203083, -0.00148319,  0.00162202, -0.00233278, -0.05238457])"
      ]
     },
     "execution_count": 16,
     "metadata": {},
     "output_type": "execute_result"
    }
   ],
   "source": [
    "logreg.marginal_effects(X, option='at_means')"
   ]
  },
  {
   "cell_type": "code",
   "execution_count": 17,
   "metadata": {},
   "outputs": [
    {
     "data": {
      "text/plain": [
       "array([ 0.0004548 ,  0.00769136,  0.08761455,  0.00042361,  0.1096568 ,\n",
       "       -0.00253175,  0.00628698,  0.00015172, -0.029117  , -0.00309451,\n",
       "       -0.00203085, -0.00148321,  0.00162204, -0.00233281, -0.0523852 ])"
      ]
     },
     "execution_count": 17,
     "metadata": {},
     "output_type": "execute_result"
    }
   ],
   "source": [
    "logreg.marginal_effects(X, option='at_median')"
   ]
  },
  {
   "cell_type": "markdown",
   "metadata": {},
   "source": [
    "## Sklearn"
   ]
  },
  {
   "cell_type": "code",
   "execution_count": 18,
   "metadata": {},
   "outputs": [],
   "source": [
    "from sklearn.linear_model import LogisticRegression"
   ]
  },
  {
   "cell_type": "code",
   "execution_count": 19,
   "metadata": {},
   "outputs": [],
   "source": [
    "lr = LogisticRegression(C=1.0)"
   ]
  },
  {
   "cell_type": "code",
   "execution_count": 20,
   "metadata": {},
   "outputs": [
    {
     "data": {
      "text/plain": [
       "LogisticRegression(C=1.0, class_weight=None, dual=False, fit_intercept=True,\n",
       "                   intercept_scaling=1, l1_ratio=None, max_iter=100,\n",
       "                   multi_class='auto', n_jobs=None, penalty='l2',\n",
       "                   random_state=None, solver='lbfgs', tol=0.0001, verbose=0,\n",
       "                   warm_start=False)"
      ]
     },
     "execution_count": 20,
     "metadata": {},
     "output_type": "execute_result"
    }
   ],
   "source": [
    "lr.fit(X, y)"
   ]
  },
  {
   "cell_type": "code",
   "execution_count": 21,
   "metadata": {},
   "outputs": [
    {
     "data": {
      "text/plain": [
       "array([0.01519818])"
      ]
     },
     "execution_count": 21,
     "metadata": {},
     "output_type": "execute_result"
    }
   ],
   "source": [
    "lr.intercept_"
   ]
  },
  {
   "cell_type": "code",
   "execution_count": 22,
   "metadata": {},
   "outputs": [
    {
     "data": {
      "text/plain": [
       "array([[ 0.05978349,  0.1086832 ,  1.5452345 ,  0.13010415,  2.83602534,\n",
       "         0.0543391 ,  0.17682002,  0.12180132, -1.54011872, -0.17162791,\n",
       "        -0.08533105,  0.17259477,  0.07540241,  0.03348763, -0.11002316]])"
      ]
     },
     "execution_count": 22,
     "metadata": {},
     "output_type": "execute_result"
    }
   ],
   "source": [
    "lr.coef_"
   ]
  },
  {
   "cell_type": "code",
   "execution_count": 23,
   "metadata": {},
   "outputs": [],
   "source": [
    "pred = lr.predict(X)"
   ]
  },
  {
   "cell_type": "code",
   "execution_count": 24,
   "metadata": {},
   "outputs": [
    {
     "data": {
      "text/plain": [
       "((2000,), (2000,))"
      ]
     },
     "execution_count": 24,
     "metadata": {},
     "output_type": "execute_result"
    }
   ],
   "source": [
    "y.shape, pred.shape"
   ]
  },
  {
   "cell_type": "code",
   "execution_count": 25,
   "metadata": {},
   "outputs": [
    {
     "data": {
      "text/plain": [
       "(array([0, 1]), array([0, 1]))"
      ]
     },
     "execution_count": 25,
     "metadata": {},
     "output_type": "execute_result"
    }
   ],
   "source": [
    "np.unique(y), np.unique(pred)"
   ]
  },
  {
   "cell_type": "markdown",
   "metadata": {},
   "source": [
    "## Comparison: Mine VS Sklearn"
   ]
  },
  {
   "cell_type": "code",
   "execution_count": 26,
   "metadata": {},
   "outputs": [],
   "source": [
    "from sklearn.metrics import accuracy_score, roc_auc_score, confusion_matrix"
   ]
  },
  {
   "cell_type": "code",
   "execution_count": 27,
   "metadata": {},
   "outputs": [
    {
     "data": {
      "text/plain": [
       "(0.948, 0.9480009480009479)"
      ]
     },
     "execution_count": 27,
     "metadata": {},
     "output_type": "execute_result"
    }
   ],
   "source": [
    "accuracy_score(y, pred), roc_auc_score(y, pred)"
   ]
  },
  {
   "cell_type": "code",
   "execution_count": 28,
   "metadata": {},
   "outputs": [
    {
     "data": {
      "text/plain": [
       "(0.902, 0.9020059020059019)"
      ]
     },
     "execution_count": 28,
     "metadata": {},
     "output_type": "execute_result"
    }
   ],
   "source": [
    "accuracy_score(y, mine_pred), roc_auc_score(y, mine_pred)"
   ]
  },
  {
   "cell_type": "code",
   "execution_count": 29,
   "metadata": {},
   "outputs": [
    {
     "data": {
      "text/plain": [
       "array([ 0.00181927,  0.03076655,  0.35047098,  0.00169451,  0.4386432 ,\n",
       "       -0.01012738,  0.02514885,  0.00060691, -0.11647225, -0.01237849,\n",
       "       -0.00812372, -0.00593304,  0.0064884 , -0.00933159, -0.20954843])"
      ]
     },
     "execution_count": 29,
     "metadata": {},
     "output_type": "execute_result"
    }
   ],
   "source": [
    "logreg.weights"
   ]
  },
  {
   "cell_type": "markdown",
   "metadata": {},
   "source": [
    "#### Predictions check for my logreg"
   ]
  },
  {
   "cell_type": "code",
   "execution_count": 30,
   "metadata": {},
   "outputs": [],
   "source": [
    "mine_pred_proba = logreg.predict_proba(X)"
   ]
  },
  {
   "cell_type": "code",
   "execution_count": 31,
   "metadata": {},
   "outputs": [
    {
     "data": {
      "text/plain": [
       "(0.21789272916103447, 0)"
      ]
     },
     "execution_count": 31,
     "metadata": {},
     "output_type": "execute_result"
    }
   ],
   "source": [
    "mine_pred_proba[0], mine_pred[0]"
   ]
  },
  {
   "cell_type": "code",
   "execution_count": 32,
   "metadata": {},
   "outputs": [],
   "source": [
    "one_obs = X[0, :].T"
   ]
  },
  {
   "cell_type": "code",
   "execution_count": 33,
   "metadata": {},
   "outputs": [],
   "source": [
    "z = np.dot(one_obs, logreg.weights) + logreg.intercept"
   ]
  },
  {
   "cell_type": "code",
   "execution_count": 34,
   "metadata": {},
   "outputs": [
    {
     "data": {
      "text/plain": [
       "0.21789272916103447"
      ]
     },
     "execution_count": 34,
     "metadata": {},
     "output_type": "execute_result"
    }
   ],
   "source": [
    "1 / (1 + np.exp(-z)) # prediction is correct"
   ]
  },
  {
   "cell_type": "code",
   "execution_count": 35,
   "metadata": {},
   "outputs": [
    {
     "data": {
      "text/plain": [
       "array([-1.91258163, -2.87594249, -0.96799143,  0.52806989, -1.67938799,\n",
       "        0.07806024,  0.82452175,  0.11504183,  0.81468444,  0.3702575 ,\n",
       "       -0.32509343,  0.41396301,  0.44870836,  0.19377518,  0.12625935])"
      ]
     },
     "execution_count": 35,
     "metadata": {},
     "output_type": "execute_result"
    }
   ],
   "source": [
    "one_obs"
   ]
  },
  {
   "cell_type": "code",
   "execution_count": 36,
   "metadata": {},
   "outputs": [],
   "source": [
    "one_obs[0] = one_obs[0] + 1"
   ]
  },
  {
   "cell_type": "code",
   "execution_count": 37,
   "metadata": {},
   "outputs": [
    {
     "data": {
      "text/plain": [
       "array([-0.91258163, -2.87594249, -0.96799143,  0.52806989, -1.67938799,\n",
       "        0.07806024,  0.82452175,  0.11504183,  0.81468444,  0.3702575 ,\n",
       "       -0.32509343,  0.41396301,  0.44870836,  0.19377518,  0.12625935])"
      ]
     },
     "execution_count": 37,
     "metadata": {},
     "output_type": "execute_result"
    }
   ],
   "source": [
    "one_obs"
   ]
  },
  {
   "cell_type": "code",
   "execution_count": 38,
   "metadata": {},
   "outputs": [],
   "source": [
    "z = np.dot(one_obs, logreg.weights) + logreg.intercept"
   ]
  },
  {
   "cell_type": "code",
   "execution_count": 39,
   "metadata": {},
   "outputs": [
    {
     "data": {
      "text/plain": [
       "0.21820292006897019"
      ]
     },
     "execution_count": 39,
     "metadata": {},
     "output_type": "execute_result"
    }
   ],
   "source": [
    "1 / (1 + np.exp(-z))"
   ]
  },
  {
   "cell_type": "code",
   "execution_count": null,
   "metadata": {},
   "outputs": [],
   "source": []
  },
  {
   "cell_type": "markdown",
   "metadata": {},
   "source": [
    "### Marginal Effects"
   ]
  },
  {
   "cell_type": "code",
   "execution_count": 40,
   "metadata": {},
   "outputs": [],
   "source": [
    "# 1 / (1 + e^(-z)) where z = b0 + b1*x1 + ... + bn*xn\n",
    "# so the ME for X1 will be e^(-z)/(1 + e^(-z))^2 * b1"
   ]
  },
  {
   "cell_type": "markdown",
   "metadata": {},
   "source": [
    "#### Marginal effect for one observation"
   ]
  },
  {
   "cell_type": "code",
   "execution_count": 41,
   "metadata": {},
   "outputs": [
    {
     "data": {
      "text/plain": [
       "((15,), (15,))"
      ]
     },
     "execution_count": 41,
     "metadata": {},
     "output_type": "execute_result"
    }
   ],
   "source": [
    "X[0, :].shape, logreg.weights.shape"
   ]
  },
  {
   "cell_type": "code",
   "execution_count": 42,
   "metadata": {},
   "outputs": [],
   "source": [
    "z = np.dot(X[0, :].T, logreg.weights) + logreg.intercept"
   ]
  },
  {
   "cell_type": "code",
   "execution_count": 43,
   "metadata": {},
   "outputs": [
    {
     "data": {
      "text/plain": [
       "0.0018192700589359124"
      ]
     },
     "execution_count": 43,
     "metadata": {},
     "output_type": "execute_result"
    }
   ],
   "source": [
    "logreg.weights[0] # the sign is negative, so the ME should also be negative"
   ]
  },
  {
   "cell_type": "code",
   "execution_count": 44,
   "metadata": {},
   "outputs": [
    {
     "data": {
      "text/plain": [
       "0.00031035001750877674"
      ]
     },
     "execution_count": 44,
     "metadata": {},
     "output_type": "execute_result"
    }
   ],
   "source": [
    "np.exp(-z) / (1 + np.exp(-z))**2 * logreg.weights[0] # ME for X1 for one observation\n",
    "# if X1 increases by 1 then probability of getting y=1 is decreased by this number"
   ]
  },
  {
   "cell_type": "markdown",
   "metadata": {},
   "source": [
    "#### Another way of getting marginal effect using difference of probabilities"
   ]
  },
  {
   "cell_type": "code",
   "execution_count": 45,
   "metadata": {},
   "outputs": [],
   "source": [
    "x = X[0, :].T"
   ]
  },
  {
   "cell_type": "code",
   "execution_count": 46,
   "metadata": {},
   "outputs": [
    {
     "data": {
      "text/plain": [
       "array([-0.91258163, -2.87594249, -0.96799143,  0.52806989, -1.67938799,\n",
       "        0.07806024,  0.82452175,  0.11504183,  0.81468444,  0.3702575 ,\n",
       "       -0.32509343,  0.41396301,  0.44870836,  0.19377518,  0.12625935])"
      ]
     },
     "execution_count": 46,
     "metadata": {},
     "output_type": "execute_result"
    }
   ],
   "source": [
    "x"
   ]
  },
  {
   "cell_type": "code",
   "execution_count": 47,
   "metadata": {},
   "outputs": [],
   "source": [
    "z_0 = np.dot(x, logreg.weights) + logreg.intercept"
   ]
  },
  {
   "cell_type": "code",
   "execution_count": 48,
   "metadata": {},
   "outputs": [
    {
     "data": {
      "text/plain": [
       "-1.2761697624494182"
      ]
     },
     "execution_count": 48,
     "metadata": {},
     "output_type": "execute_result"
    }
   ],
   "source": [
    "z_0"
   ]
  },
  {
   "cell_type": "code",
   "execution_count": 49,
   "metadata": {},
   "outputs": [],
   "source": [
    "z_0 = 1 / (1 + np.exp(-z_0))"
   ]
  },
  {
   "cell_type": "code",
   "execution_count": 50,
   "metadata": {},
   "outputs": [
    {
     "data": {
      "text/plain": [
       "0.21820292006897019"
      ]
     },
     "execution_count": 50,
     "metadata": {},
     "output_type": "execute_result"
    }
   ],
   "source": [
    "z_0"
   ]
  },
  {
   "cell_type": "code",
   "execution_count": 51,
   "metadata": {},
   "outputs": [],
   "source": [
    "x[0] = x[0] + 1"
   ]
  },
  {
   "cell_type": "code",
   "execution_count": 52,
   "metadata": {},
   "outputs": [
    {
     "data": {
      "text/plain": [
       "array([ 0.08741837, -2.87594249, -0.96799143,  0.52806989, -1.67938799,\n",
       "        0.07806024,  0.82452175,  0.11504183,  0.81468444,  0.3702575 ,\n",
       "       -0.32509343,  0.41396301,  0.44870836,  0.19377518,  0.12625935])"
      ]
     },
     "execution_count": 52,
     "metadata": {},
     "output_type": "execute_result"
    }
   ],
   "source": [
    "x"
   ]
  },
  {
   "cell_type": "code",
   "execution_count": 53,
   "metadata": {},
   "outputs": [],
   "source": [
    "z_1 = np.dot(x, logreg.weights) + logreg.intercept"
   ]
  },
  {
   "cell_type": "code",
   "execution_count": 54,
   "metadata": {},
   "outputs": [
    {
     "data": {
      "text/plain": [
       "-1.2743504923904823"
      ]
     },
     "execution_count": 54,
     "metadata": {},
     "output_type": "execute_result"
    }
   ],
   "source": [
    "z_1"
   ]
  },
  {
   "cell_type": "code",
   "execution_count": 55,
   "metadata": {},
   "outputs": [],
   "source": [
    "z_1 = 1 / (1 + np.exp(-z_1))"
   ]
  },
  {
   "cell_type": "code",
   "execution_count": 56,
   "metadata": {},
   "outputs": [
    {
     "data": {
      "text/plain": [
       "0.21851342918799127"
      ]
     },
     "execution_count": 56,
     "metadata": {},
     "output_type": "execute_result"
    }
   ],
   "source": [
    "z_1"
   ]
  },
  {
   "cell_type": "code",
   "execution_count": 57,
   "metadata": {},
   "outputs": [
    {
     "data": {
      "text/plain": [
       "(0.21820292006897019, 0.21851342918799127)"
      ]
     },
     "execution_count": 57,
     "metadata": {},
     "output_type": "execute_result"
    }
   ],
   "source": [
    "z_0, z_1"
   ]
  },
  {
   "cell_type": "code",
   "execution_count": 58,
   "metadata": {},
   "outputs": [
    {
     "data": {
      "text/plain": [
       "0.00031050911902108513"
      ]
     },
     "execution_count": 58,
     "metadata": {},
     "output_type": "execute_result"
    }
   ],
   "source": [
    "z_1 - z_0 # MARGINAL EFFECT FOR THE FIRST OBSERVATION. THE SAME AS IN THE BEGINING"
   ]
  },
  {
   "cell_type": "markdown",
   "metadata": {},
   "source": [
    "#### Marginal effect for X1 and for all factors"
   ]
  },
  {
   "cell_type": "code",
   "execution_count": 59,
   "metadata": {},
   "outputs": [
    {
     "data": {
      "text/plain": [
       "((2000, 15), (15,))"
      ]
     },
     "execution_count": 59,
     "metadata": {},
     "output_type": "execute_result"
    }
   ],
   "source": [
    "X.shape, logreg.weights.shape"
   ]
  },
  {
   "cell_type": "code",
   "execution_count": 60,
   "metadata": {},
   "outputs": [],
   "source": [
    "z = np.dot(X, logreg.weights) + logreg.intercept"
   ]
  },
  {
   "cell_type": "code",
   "execution_count": 61,
   "metadata": {},
   "outputs": [],
   "source": [
    "ME_x1 = np.exp(-z) / (1 + np.exp(-z))**2 * logreg.weights[0]"
   ]
  },
  {
   "cell_type": "code",
   "execution_count": 62,
   "metadata": {},
   "outputs": [
    {
     "data": {
      "text/plain": [
       "((2000,), (15,))"
      ]
     },
     "execution_count": 62,
     "metadata": {},
     "output_type": "execute_result"
    }
   ],
   "source": [
    "z.shape, logreg.weights.shape"
   ]
  },
  {
   "cell_type": "code",
   "execution_count": 63,
   "metadata": {},
   "outputs": [],
   "source": [
    "ME_all = np.dot((np.exp(-z) / (1 + np.exp(-z))**2).reshape(2000, 1), logreg.weights.reshape(15, 1).T)"
   ]
  },
  {
   "cell_type": "code",
   "execution_count": 64,
   "metadata": {},
   "outputs": [
    {
     "data": {
      "text/plain": [
       "(2000, 15)"
      ]
     },
     "execution_count": 64,
     "metadata": {},
     "output_type": "execute_result"
    }
   ],
   "source": [
    "ME_all.shape"
   ]
  },
  {
   "cell_type": "code",
   "execution_count": 65,
   "metadata": {},
   "outputs": [
    {
     "data": {
      "text/plain": [
       "array([0.00031067, 0.00029821, 0.00040922, 0.000393  , 0.00031797,\n",
       "       0.00043438])"
      ]
     },
     "execution_count": 65,
     "metadata": {},
     "output_type": "execute_result"
    }
   ],
   "source": [
    "ME_all[:6, 0] # ME for X1"
   ]
  },
  {
   "cell_type": "code",
   "execution_count": 66,
   "metadata": {},
   "outputs": [
    {
     "data": {
      "text/plain": [
       "array([0.00031067, 0.00029821, 0.00040922, 0.000393  , 0.00031797,\n",
       "       0.00043438])"
      ]
     },
     "execution_count": 66,
     "metadata": {},
     "output_type": "execute_result"
    }
   ],
   "source": [
    "ME_x1[:6] # also ME for X1 but calculated separately"
   ]
  },
  {
   "cell_type": "code",
   "execution_count": 67,
   "metadata": {
    "scrolled": true
   },
   "outputs": [
    {
     "data": {
      "text/plain": [
       "0.00036676198263066375"
      ]
     },
     "execution_count": 67,
     "metadata": {},
     "output_type": "execute_result"
    }
   ],
   "source": [
    "np.mean(ME_x1) # AME average marginal effect for X1"
   ]
  },
  {
   "cell_type": "code",
   "execution_count": 68,
   "metadata": {},
   "outputs": [
    {
     "data": {
      "text/plain": [
       "0.00036676198263066375"
      ]
     },
     "execution_count": 68,
     "metadata": {},
     "output_type": "execute_result"
    }
   ],
   "source": [
    "logreg.marginal_effects(X)[:, 0].mean()"
   ]
  },
  {
   "cell_type": "code",
   "execution_count": 69,
   "metadata": {},
   "outputs": [
    {
     "data": {
      "text/plain": [
       "array([[ 2.45186810e-02, -1.91564954e-03,  4.79838825e-02,\n",
       "         9.30828319e-03,  1.34807805e-02,  1.82619593e-02,\n",
       "         4.23208000e-03,  3.00299743e-02,  1.39806832e-01,\n",
       "         2.11698652e-03, -1.74909163e-02,  1.17241544e-04,\n",
       "        -5.34109774e-02, -3.18223753e-03, -2.81090376e-02]])"
      ]
     },
     "execution_count": 69,
     "metadata": {},
     "output_type": "execute_result"
    }
   ],
   "source": [
    "np.median(X, axis=0).reshape(1, 15)"
   ]
  },
  {
   "cell_type": "code",
   "execution_count": 70,
   "metadata": {},
   "outputs": [],
   "source": [
    "z = np.dot(logreg.weights, np.median(X, axis=0))"
   ]
  },
  {
   "cell_type": "code",
   "execution_count": 71,
   "metadata": {},
   "outputs": [
    {
     "data": {
      "text/plain": [
       "array([ 0.0004548 ,  0.00769136,  0.08761455,  0.00042361,  0.1096568 ,\n",
       "       -0.00253175,  0.00628698,  0.00015172, -0.029117  , -0.00309451,\n",
       "       -0.00203085, -0.00148321,  0.00162204, -0.00233281, -0.0523852 ])"
      ]
     },
     "execution_count": 71,
     "metadata": {},
     "output_type": "execute_result"
    }
   ],
   "source": [
    "np.dot((np.exp(-z) / (1 + np.exp(-z))**2), logreg.weights)"
   ]
  },
  {
   "cell_type": "code",
   "execution_count": 72,
   "metadata": {},
   "outputs": [
    {
     "data": {
      "text/plain": [
       "array([ 0.0004548 ,  0.00769136,  0.08761455,  0.00042361,  0.1096568 ,\n",
       "       -0.00253175,  0.00628698,  0.00015172, -0.029117  , -0.00309451,\n",
       "       -0.00203085, -0.00148321,  0.00162204, -0.00233281, -0.0523852 ])"
      ]
     },
     "execution_count": 72,
     "metadata": {},
     "output_type": "execute_result"
    }
   ],
   "source": [
    "logreg.marginal_effects(X, option='at_median')"
   ]
  },
  {
   "cell_type": "code",
   "execution_count": null,
   "metadata": {},
   "outputs": [],
   "source": []
  },
  {
   "cell_type": "code",
   "execution_count": null,
   "metadata": {},
   "outputs": [],
   "source": []
  },
  {
   "cell_type": "code",
   "execution_count": null,
   "metadata": {},
   "outputs": [],
   "source": []
  }
 ],
 "metadata": {
  "kernelspec": {
   "display_name": "Python 3",
   "language": "python",
   "name": "python3"
  },
  "language_info": {
   "codemirror_mode": {
    "name": "ipython",
    "version": 3
   },
   "file_extension": ".py",
   "mimetype": "text/x-python",
   "name": "python",
   "nbconvert_exporter": "python",
   "pygments_lexer": "ipython3",
   "version": "3.6.5"
  }
 },
 "nbformat": 4,
 "nbformat_minor": 4
}
