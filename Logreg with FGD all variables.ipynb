{
 "cells": [
  {
   "cell_type": "code",
   "execution_count": 39,
   "metadata": {},
   "outputs": [],
   "source": [
    "import pandas as pd\n",
    "import numpy as np\n",
    "import matplotlib.pyplot as plt\n",
    "from sklearn.datasets import make_classification"
   ]
  },
  {
   "cell_type": "code",
   "execution_count": 40,
   "metadata": {},
   "outputs": [
    {
     "data": {
      "text/plain": [
       "((1000, 20), (1000,))"
      ]
     },
     "execution_count": 40,
     "metadata": {},
     "output_type": "execute_result"
    }
   ],
   "source": [
    "X, y = make_classification(n_samples=1000, n_features=20, n_classes=2)\n",
    "X.shape, y.shape"
   ]
  },
  {
   "cell_type": "code",
   "execution_count": 41,
   "metadata": {},
   "outputs": [
    {
     "data": {
      "text/plain": [
       "array([0, 1])"
      ]
     },
     "execution_count": 41,
     "metadata": {},
     "output_type": "execute_result"
    }
   ],
   "source": [
    "np.unique(y)"
   ]
  },
  {
   "cell_type": "code",
   "execution_count": 42,
   "metadata": {},
   "outputs": [],
   "source": [
    "# X = np.hstack([np.ones((1000, 1)), X]) # to add intercept"
   ]
  },
  {
   "cell_type": "code",
   "execution_count": 43,
   "metadata": {
    "scrolled": true
   },
   "outputs": [
    {
     "data": {
      "text/plain": [
       "-9.439620559305334"
      ]
     },
     "execution_count": 43,
     "metadata": {},
     "output_type": "execute_result"
    }
   ],
   "source": [
    "np.sum(X[:, 0] - X[:, 1])"
   ]
  },
  {
   "cell_type": "code",
   "execution_count": 44,
   "metadata": {},
   "outputs": [
    {
     "data": {
      "text/plain": [
       "(array([ 0.00770717,  0.01714679,  0.02659486,  0.02150875,  0.02329381,\n",
       "         0.04786348,  0.0348178 , -0.01446054, -0.01636471,  0.01029058,\n",
       "        -0.03648658, -0.01421281, -0.04032865, -0.00062538,  0.05637915,\n",
       "        -0.00898243, -0.03334624,  0.01723628,  0.02209461,  0.01517449]),\n",
       " array([1.00470729, 0.95741826, 1.02479061, 1.0090042 , 1.20125942,\n",
       "        1.01601686, 0.99051917, 1.04935525, 0.99793196, 1.01547641,\n",
       "        1.00088223, 0.99327932, 1.00045558, 1.00081805, 0.97761057,\n",
       "        0.97433749, 1.01645018, 1.16609765, 1.31199651, 0.98950134]))"
      ]
     },
     "execution_count": 44,
     "metadata": {},
     "output_type": "execute_result"
    }
   ],
   "source": [
    "X.mean(axis=0), X.std(axis=0)"
   ]
  },
  {
   "cell_type": "code",
   "execution_count": 66,
   "metadata": {},
   "outputs": [],
   "source": [
    "class Logreg:\n",
    "    def __init__(self, learning_rate=0.1, iterations=1500, C=1.0):\n",
    "        self.learning_rate = learning_rate\n",
    "        self.iterations = iterations\n",
    "        self.C = C\n",
    "        self.weights = None\n",
    "        self.intercept = None\n",
    "        \n",
    "        # history\n",
    "        self.iters_list = []\n",
    "        self.loss_list = []\n",
    "    \n",
    "    def fit(self, X, y):\n",
    "        # number of observations\n",
    "        n = len(y)\n",
    "        # number of features\n",
    "        k = X.shape[1]\n",
    "        \n",
    "        # 1. Initialize weights\n",
    "        self.weights = np.zeros(k)\n",
    "        self.intercept = 0\n",
    "        \n",
    "        for iteration in range(self.iterations):\n",
    "            # 2 Predict\n",
    "            z = np.dot(X, self.weights) + self.intercept\n",
    "            y_hat = 1 / (1 + np.exp(-z))\n",
    "            # 3 Calculate logloss\n",
    "            #logloss = np.sum(-y * np.log(y_hat) - (1 - y) * np.log(1 - y_hat))\n",
    "            logloss = np.sum(np.log(1 + np.exp(- y * y_hat)))\n",
    "        \n",
    "            # 4 Derivative by weights\n",
    "            derivative_weights = (1 / n) * np.dot(X.T, (y_hat - y)) # (a - y) * x\n",
    "            derivative_intercept = (1 / n) * np.sum(y_hat - y)\n",
    "\n",
    "            # 5 Update weights\n",
    "            self.weights -= self.learning_rate * (derivative_weights + self.C * self.weights)\n",
    "            self.intercept -= self.learning_rate * (derivative_intercept + self.C * self.intercept)\n",
    "            \n",
    "            #print('Iteration:', iteration, 'Total logLoss =', logloss)\n",
    "            \n",
    "            # history update\n",
    "            self.iters_list.append(iteration)\n",
    "            self.loss_list.append(logloss)\n",
    "            # 6 Repeat\n",
    "    \n",
    "\n",
    "    def predict(self, X):\n",
    "        z = np.dot(X, self.weights) + self.intercept\n",
    "        pred = 1 / (1 + np.exp(-z))\n",
    "        return [1 if i > 0.5 else 0 for i in pred]\n"
   ]
  },
  {
   "cell_type": "code",
   "execution_count": 67,
   "metadata": {},
   "outputs": [],
   "source": [
    "#weights = np.array([2, 3, 1])\n",
    "#X = np.matrix([[1, 2, 3], [2, 2, 2], [3, 2, 3], [1, 1, 1]])"
   ]
  },
  {
   "cell_type": "code",
   "execution_count": 68,
   "metadata": {},
   "outputs": [],
   "source": [
    "#np.exp(np.sum(np.dot(X, weights)))"
   ]
  },
  {
   "cell_type": "code",
   "execution_count": 69,
   "metadata": {},
   "outputs": [],
   "source": [
    "logreg = Logreg(C=1.0)"
   ]
  },
  {
   "cell_type": "code",
   "execution_count": 70,
   "metadata": {},
   "outputs": [],
   "source": [
    "logreg.fit(X, y)"
   ]
  },
  {
   "cell_type": "code",
   "execution_count": 71,
   "metadata": {},
   "outputs": [],
   "source": [
    "mine_pred = logreg.predict(X)"
   ]
  },
  {
   "cell_type": "code",
   "execution_count": 72,
   "metadata": {},
   "outputs": [
    {
     "data": {
      "text/plain": [
       "array([0, 1])"
      ]
     },
     "execution_count": 72,
     "metadata": {},
     "output_type": "execute_result"
    }
   ],
   "source": [
    "np.unique(mine_pred)"
   ]
  },
  {
   "cell_type": "code",
   "execution_count": null,
   "metadata": {},
   "outputs": [],
   "source": []
  },
  {
   "cell_type": "code",
   "execution_count": null,
   "metadata": {},
   "outputs": [],
   "source": []
  },
  {
   "cell_type": "markdown",
   "metadata": {},
   "source": [
    "## Sklearn"
   ]
  },
  {
   "cell_type": "code",
   "execution_count": 73,
   "metadata": {},
   "outputs": [],
   "source": [
    "from sklearn.linear_model import LogisticRegression"
   ]
  },
  {
   "cell_type": "code",
   "execution_count": 74,
   "metadata": {},
   "outputs": [],
   "source": [
    "lr = LogisticRegression(C=1.0, solver='liblinear')"
   ]
  },
  {
   "cell_type": "code",
   "execution_count": 75,
   "metadata": {},
   "outputs": [
    {
     "data": {
      "text/plain": [
       "LogisticRegression(C=1.0, class_weight=None, dual=False, fit_intercept=True,\n",
       "                   intercept_scaling=1, l1_ratio=None, max_iter=100,\n",
       "                   multi_class='auto', n_jobs=None, penalty='l2',\n",
       "                   random_state=None, solver='liblinear', tol=0.0001, verbose=0,\n",
       "                   warm_start=False)"
      ]
     },
     "execution_count": 75,
     "metadata": {},
     "output_type": "execute_result"
    }
   ],
   "source": [
    "lr.fit(X, y)"
   ]
  },
  {
   "cell_type": "code",
   "execution_count": 76,
   "metadata": {},
   "outputs": [
    {
     "data": {
      "text/plain": [
       "array([0.1635636])"
      ]
     },
     "execution_count": 76,
     "metadata": {},
     "output_type": "execute_result"
    }
   ],
   "source": [
    "lr.intercept_"
   ]
  },
  {
   "cell_type": "code",
   "execution_count": 77,
   "metadata": {},
   "outputs": [
    {
     "data": {
      "text/plain": [
       "array([[-0.16292115,  1.39311248, -0.00230868,  0.38800679,  1.76940081,\n",
       "         0.07627962,  0.13542552, -0.25980743,  0.08027389, -0.12907094,\n",
       "         0.09251899, -0.15240749,  0.06719323,  0.05293899, -0.00653164,\n",
       "        -0.16819577,  0.10599916,  1.61997867,  0.34919447,  0.05742598]])"
      ]
     },
     "execution_count": 77,
     "metadata": {},
     "output_type": "execute_result"
    }
   ],
   "source": [
    "lr.coef_"
   ]
  },
  {
   "cell_type": "code",
   "execution_count": 78,
   "metadata": {},
   "outputs": [],
   "source": [
    "pred = lr.predict(X)"
   ]
  },
  {
   "cell_type": "code",
   "execution_count": 79,
   "metadata": {},
   "outputs": [
    {
     "data": {
      "text/plain": [
       "((1000,), (1000,))"
      ]
     },
     "execution_count": 79,
     "metadata": {},
     "output_type": "execute_result"
    }
   ],
   "source": [
    "y.shape, pred.shape"
   ]
  },
  {
   "cell_type": "code",
   "execution_count": 80,
   "metadata": {},
   "outputs": [
    {
     "data": {
      "text/plain": [
       "(array([0, 1]), array([0, 1]))"
      ]
     },
     "execution_count": 80,
     "metadata": {},
     "output_type": "execute_result"
    }
   ],
   "source": [
    "np.unique(y), np.unique(pred)"
   ]
  },
  {
   "cell_type": "markdown",
   "metadata": {},
   "source": [
    "## Comparison: Mine VS Sklearn"
   ]
  },
  {
   "cell_type": "code",
   "execution_count": 81,
   "metadata": {},
   "outputs": [],
   "source": [
    "from sklearn.metrics import accuracy_score, roc_auc_score, confusion_matrix"
   ]
  },
  {
   "cell_type": "code",
   "execution_count": 82,
   "metadata": {},
   "outputs": [
    {
     "data": {
      "text/plain": [
       "(0.943, 0.9429950879214067)"
      ]
     },
     "execution_count": 82,
     "metadata": {},
     "output_type": "execute_result"
    }
   ],
   "source": [
    "accuracy_score(y, pred), roc_auc_score(y, pred)"
   ]
  },
  {
   "cell_type": "code",
   "execution_count": 83,
   "metadata": {},
   "outputs": [
    {
     "data": {
      "text/plain": [
       "(0.941, 0.9409870557928928)"
      ]
     },
     "execution_count": 83,
     "metadata": {},
     "output_type": "execute_result"
    }
   ],
   "source": [
    "accuracy_score(y, mine_pred), roc_auc_score(y, mine_pred)"
   ]
  },
  {
   "cell_type": "code",
   "execution_count": 84,
   "metadata": {},
   "outputs": [
    {
     "data": {
      "text/plain": [
       "array([-0.01306172,  0.22107755,  0.01496606,  0.01412987,  0.2770991 ,\n",
       "        0.00479433,  0.01150668, -0.01283411,  0.00300509,  0.00187734,\n",
       "        0.00140605, -0.00708802, -0.00271376,  0.00654446, -0.00279061,\n",
       "       -0.01761404,  0.00381569,  0.26366547,  0.01205112,  0.0146762 ])"
      ]
     },
     "execution_count": 84,
     "metadata": {},
     "output_type": "execute_result"
    }
   ],
   "source": [
    "logreg.weights"
   ]
  },
  {
   "cell_type": "code",
   "execution_count": null,
   "metadata": {},
   "outputs": [],
   "source": []
  },
  {
   "cell_type": "code",
   "execution_count": null,
   "metadata": {},
   "outputs": [],
   "source": []
  },
  {
   "cell_type": "code",
   "execution_count": null,
   "metadata": {},
   "outputs": [],
   "source": []
  }
 ],
 "metadata": {
  "kernelspec": {
   "display_name": "Python 3",
   "language": "python",
   "name": "python3"
  },
  "language_info": {
   "codemirror_mode": {
    "name": "ipython",
    "version": 3
   },
   "file_extension": ".py",
   "mimetype": "text/x-python",
   "name": "python",
   "nbconvert_exporter": "python",
   "pygments_lexer": "ipython3",
   "version": "3.6.5"
  }
 },
 "nbformat": 4,
 "nbformat_minor": 4
}
