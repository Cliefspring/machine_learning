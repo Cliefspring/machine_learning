{
 "cells": [
  {
   "cell_type": "code",
   "execution_count": 85,
   "metadata": {},
   "outputs": [],
   "source": [
    "import pandas as pd\n",
    "import numpy as np\n",
    "import matplotlib.pyplot as plt\n",
    "from sklearn.datasets import make_classification"
   ]
  },
  {
   "cell_type": "code",
   "execution_count": 142,
   "metadata": {},
   "outputs": [
    {
     "data": {
      "text/plain": [
       "((1000, 20), (1000,))"
      ]
     },
     "execution_count": 142,
     "metadata": {},
     "output_type": "execute_result"
    }
   ],
   "source": [
    "X, y = make_classification(n_samples=1000, n_features=20, n_classes=2)\n",
    "X.shape, y.shape"
   ]
  },
  {
   "cell_type": "code",
   "execution_count": 143,
   "metadata": {},
   "outputs": [
    {
     "data": {
      "text/plain": [
       "array([0, 1])"
      ]
     },
     "execution_count": 143,
     "metadata": {},
     "output_type": "execute_result"
    }
   ],
   "source": [
    "np.unique(y)"
   ]
  },
  {
   "cell_type": "code",
   "execution_count": 144,
   "metadata": {},
   "outputs": [],
   "source": [
    "# X = np.hstack([np.ones((1000, 1)), X]) # to add intercept"
   ]
  },
  {
   "cell_type": "code",
   "execution_count": 145,
   "metadata": {
    "scrolled": true
   },
   "outputs": [
    {
     "data": {
      "text/plain": [
       "-52.50911097329066"
      ]
     },
     "execution_count": 145,
     "metadata": {},
     "output_type": "execute_result"
    }
   ],
   "source": [
    "np.sum(X[:, 0] - X[:, 1])"
   ]
  },
  {
   "cell_type": "code",
   "execution_count": 146,
   "metadata": {},
   "outputs": [
    {
     "data": {
      "text/plain": [
       "(array([ 0.02240069,  0.0749098 ,  0.02771704,  0.0455583 ,  0.04356899,\n",
       "        -0.04769052, -0.01488104,  0.00286772, -0.06190779, -0.00249021,\n",
       "        -0.01456295,  0.04602224, -0.04419029,  0.00108083,  0.00953509,\n",
       "        -0.01032471, -0.00394473, -0.00468178, -0.00514309, -0.00716861]),\n",
       " array([0.98457209, 0.98942275, 1.31175364, 0.9708992 , 0.98411748,\n",
       "        1.00812872, 0.99365397, 1.03950956, 0.98418997, 0.48008089,\n",
       "        0.98937215, 1.01898863, 0.98279448, 1.00515069, 1.00061534,\n",
       "        0.53677791, 0.98917561, 0.99082923, 1.00803632, 1.30506221]))"
      ]
     },
     "execution_count": 146,
     "metadata": {},
     "output_type": "execute_result"
    }
   ],
   "source": [
    "X.mean(axis=0), X.std(axis=0)"
   ]
  },
  {
   "cell_type": "code",
   "execution_count": 359,
   "metadata": {},
   "outputs": [],
   "source": [
    "class Logreg:\n",
    "    def __init__(self, learning_rate=0.05, iterations=1500, C=1.0):\n",
    "        self.learning_rate = learning_rate\n",
    "        self.iterations = iterations\n",
    "        self.C = C\n",
    "        self.weights = None\n",
    "        self.intercept = None\n",
    "        \n",
    "        # history\n",
    "        self.iters_list = []\n",
    "        self.loss_list = []\n",
    "    \n",
    "    def fit(self, X, y):\n",
    "        # number of observations\n",
    "        n = len(y)\n",
    "        # number of features\n",
    "        k = X.shape[1]\n",
    "        \n",
    "        # 1. Initialize weights\n",
    "        self.weights = np.zeros(k)\n",
    "        self.intercept = 0\n",
    "        \n",
    "        for iteration in range(self.iterations):\n",
    "            # 2 Predict\n",
    "            z = np.dot(X, self.weights) + self.intercept\n",
    "            y_hat = 1 / (1 + np.exp(-z))\n",
    "            # 3 Calculate logloss\n",
    "            #logloss = np.sum(-y * np.log(y_hat) - (1 - y) * np.log(1 - y_hat))\n",
    "            logloss = np.sum(np.log(1 + np.exp(- y * y_hat)))\n",
    "        \n",
    "            # 4 Derivative by weights\n",
    "            derivative_weights = (1 / n) * np.dot(X.T, (y_hat - y)) # (a - y) * x\n",
    "            derivative_intercept = (1 / n) * np.sum(y_hat - y)\n",
    "\n",
    "            # 5 Update weights\n",
    "            self.weights -= self.learning_rate * (derivative_weights + self.C * self.weights)\n",
    "            self.intercept -= self.learning_rate * (derivative_intercept + self.C * self.intercept)\n",
    "            \n",
    "            #print('Iteration:', iteration, 'Total logLoss =', logloss)\n",
    "            \n",
    "            # history update\n",
    "            self.iters_list.append(iteration)\n",
    "            self.loss_list.append(logloss)\n",
    "            # 6 Repeat\n",
    "    \n",
    "\n",
    "    def predict(self, X):\n",
    "        z = np.dot(X, self.weights) + self.intercept\n",
    "        pred = 1 / (1 + np.exp(-z))\n",
    "        return np.array([1 if i > 0.5 else 0 for i in pred])\n",
    "    \n",
    "    def predict_proba(self, X):\n",
    "        z = np.dot(X, self.weights) + self.intercept\n",
    "        return 1 / (1 + np.exp(-z))\n"
   ]
  },
  {
   "cell_type": "code",
   "execution_count": 360,
   "metadata": {},
   "outputs": [],
   "source": [
    "#weights = np.array([2, 3, 1])\n",
    "#X = np.matrix([[1, 2, 3], [2, 2, 2], [3, 2, 3], [1, 1, 1]])"
   ]
  },
  {
   "cell_type": "code",
   "execution_count": 361,
   "metadata": {},
   "outputs": [],
   "source": [
    "#np.exp(np.sum(np.dot(X, weights)))"
   ]
  },
  {
   "cell_type": "code",
   "execution_count": 362,
   "metadata": {},
   "outputs": [],
   "source": [
    "logreg = Logreg(C=1.0)"
   ]
  },
  {
   "cell_type": "code",
   "execution_count": 363,
   "metadata": {},
   "outputs": [],
   "source": [
    "logreg.fit(X, y)"
   ]
  },
  {
   "cell_type": "code",
   "execution_count": 364,
   "metadata": {},
   "outputs": [],
   "source": [
    "mine_pred = logreg.predict(X)"
   ]
  },
  {
   "cell_type": "code",
   "execution_count": 365,
   "metadata": {
    "scrolled": true
   },
   "outputs": [
    {
     "data": {
      "text/plain": [
       "array([0, 1])"
      ]
     },
     "execution_count": 365,
     "metadata": {},
     "output_type": "execute_result"
    }
   ],
   "source": [
    "np.unique(mine_pred)"
   ]
  },
  {
   "cell_type": "code",
   "execution_count": 366,
   "metadata": {},
   "outputs": [
    {
     "data": {
      "text/plain": [
       "[583.612082370026, 582.3290667296554, 581.1549558701205, 580.0810523535189]"
      ]
     },
     "execution_count": 366,
     "metadata": {},
     "output_type": "execute_result"
    }
   ],
   "source": [
    "logreg.loss_list[:4]"
   ]
  },
  {
   "cell_type": "code",
   "execution_count": 367,
   "metadata": {},
   "outputs": [
    {
     "data": {
      "text/plain": [
       "567.9209253850593"
      ]
     },
     "execution_count": 367,
     "metadata": {},
     "output_type": "execute_result"
    }
   ],
   "source": [
    "logreg.loss_list[-1]"
   ]
  },
  {
   "cell_type": "code",
   "execution_count": 368,
   "metadata": {},
   "outputs": [
    {
     "data": {
      "text/plain": [
       "[567.9209253850593, 567.9209253850593, 567.9209253850593, 567.9209253850593]"
      ]
     },
     "execution_count": 368,
     "metadata": {},
     "output_type": "execute_result"
    }
   ],
   "source": [
    "logreg.loss_list[-4:]"
   ]
  },
  {
   "cell_type": "code",
   "execution_count": null,
   "metadata": {},
   "outputs": [],
   "source": []
  },
  {
   "cell_type": "markdown",
   "metadata": {},
   "source": [
    "## Sklearn"
   ]
  },
  {
   "cell_type": "code",
   "execution_count": 335,
   "metadata": {},
   "outputs": [],
   "source": [
    "from sklearn.linear_model import LogisticRegression"
   ]
  },
  {
   "cell_type": "code",
   "execution_count": 336,
   "metadata": {},
   "outputs": [],
   "source": [
    "lr = LogisticRegression(C=1.0, solver='liblinear')"
   ]
  },
  {
   "cell_type": "code",
   "execution_count": 337,
   "metadata": {},
   "outputs": [
    {
     "data": {
      "text/plain": [
       "LogisticRegression(C=1.0, class_weight=None, dual=False, fit_intercept=True,\n",
       "                   intercept_scaling=1, l1_ratio=None, max_iter=100,\n",
       "                   multi_class='auto', n_jobs=None, penalty='l2',\n",
       "                   random_state=None, solver='liblinear', tol=0.0001, verbose=0,\n",
       "                   warm_start=False)"
      ]
     },
     "execution_count": 337,
     "metadata": {},
     "output_type": "execute_result"
    }
   ],
   "source": [
    "lr.fit(X, y)"
   ]
  },
  {
   "cell_type": "code",
   "execution_count": 338,
   "metadata": {},
   "outputs": [
    {
     "data": {
      "text/plain": [
       "array([-0.0029074])"
      ]
     },
     "execution_count": 338,
     "metadata": {},
     "output_type": "execute_result"
    }
   ],
   "source": [
    "lr.intercept_"
   ]
  },
  {
   "cell_type": "code",
   "execution_count": 339,
   "metadata": {},
   "outputs": [
    {
     "data": {
      "text/plain": [
       "array([[-0.00459575,  0.05368594,  2.39309371,  0.03526541,  0.03582772,\n",
       "         0.00865987,  0.00280306,  0.05917152,  0.02741336, -0.71499805,\n",
       "        -0.1303241 ,  0.04506172, -0.06591757,  0.04710635, -0.18238228,\n",
       "        -1.08510829, -0.03694172,  0.04219021,  0.14303208,  0.81396213]])"
      ]
     },
     "execution_count": 339,
     "metadata": {},
     "output_type": "execute_result"
    }
   ],
   "source": [
    "lr.coef_"
   ]
  },
  {
   "cell_type": "code",
   "execution_count": 340,
   "metadata": {},
   "outputs": [],
   "source": [
    "pred = lr.predict(X)"
   ]
  },
  {
   "cell_type": "code",
   "execution_count": 341,
   "metadata": {},
   "outputs": [
    {
     "data": {
      "text/plain": [
       "((1000,), (1000,))"
      ]
     },
     "execution_count": 341,
     "metadata": {},
     "output_type": "execute_result"
    }
   ],
   "source": [
    "y.shape, pred.shape"
   ]
  },
  {
   "cell_type": "code",
   "execution_count": 342,
   "metadata": {},
   "outputs": [
    {
     "data": {
      "text/plain": [
       "(array([0, 1]), array([0, 1]))"
      ]
     },
     "execution_count": 342,
     "metadata": {},
     "output_type": "execute_result"
    }
   ],
   "source": [
    "np.unique(y), np.unique(pred)"
   ]
  },
  {
   "cell_type": "markdown",
   "metadata": {},
   "source": [
    "## Comparison: Mine VS Sklearn"
   ]
  },
  {
   "cell_type": "code",
   "execution_count": 343,
   "metadata": {},
   "outputs": [],
   "source": [
    "from sklearn.metrics import accuracy_score, roc_auc_score, confusion_matrix"
   ]
  },
  {
   "cell_type": "code",
   "execution_count": 344,
   "metadata": {},
   "outputs": [
    {
     "data": {
      "text/plain": [
       "(0.89, 0.8900000000000001)"
      ]
     },
     "execution_count": 344,
     "metadata": {},
     "output_type": "execute_result"
    }
   ],
   "source": [
    "accuracy_score(y, pred), roc_auc_score(y, pred)"
   ]
  },
  {
   "cell_type": "code",
   "execution_count": 345,
   "metadata": {},
   "outputs": [
    {
     "data": {
      "text/plain": [
       "(0.865, 0.8650000000000001)"
      ]
     },
     "execution_count": 345,
     "metadata": {},
     "output_type": "execute_result"
    }
   ],
   "source": [
    "accuracy_score(y, mine_pred), roc_auc_score(y, mine_pred)"
   ]
  },
  {
   "cell_type": "code",
   "execution_count": 346,
   "metadata": {},
   "outputs": [
    {
     "data": {
      "text/plain": [
       "array([-0.00851758,  0.00754219,  0.31217994, -0.00863851,  0.01033981,\n",
       "        0.00548936,  0.01148325,  0.00618452, -0.01834792, -0.06318905,\n",
       "       -0.00081821, -0.00557393, -0.01443565,  0.02149461, -0.00706316,\n",
       "       -0.12990032, -0.01447115,  0.00861049,  0.00521226,  0.01996927])"
      ]
     },
     "execution_count": 346,
     "metadata": {},
     "output_type": "execute_result"
    }
   ],
   "source": [
    "logreg.weights"
   ]
  },
  {
   "cell_type": "code",
   "execution_count": null,
   "metadata": {},
   "outputs": [],
   "source": []
  },
  {
   "cell_type": "code",
   "execution_count": null,
   "metadata": {},
   "outputs": [],
   "source": []
  },
  {
   "cell_type": "code",
   "execution_count": null,
   "metadata": {},
   "outputs": [],
   "source": []
  }
 ],
 "metadata": {
  "kernelspec": {
   "display_name": "Python 3",
   "language": "python",
   "name": "python3"
  },
  "language_info": {
   "codemirror_mode": {
    "name": "ipython",
    "version": 3
   },
   "file_extension": ".py",
   "mimetype": "text/x-python",
   "name": "python",
   "nbconvert_exporter": "python",
   "pygments_lexer": "ipython3",
   "version": "3.6.5"
  }
 },
 "nbformat": 4,
 "nbformat_minor": 4
}
