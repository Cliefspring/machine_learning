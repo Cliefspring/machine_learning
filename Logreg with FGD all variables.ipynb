{
 "cells": [
  {
   "cell_type": "code",
   "execution_count": 1,
   "metadata": {},
   "outputs": [],
   "source": [
    "import pandas as pd\n",
    "import numpy as np\n",
    "import matplotlib.pyplot as plt\n",
    "from sklearn.datasets import make_classification"
   ]
  },
  {
   "cell_type": "code",
   "execution_count": 2,
   "metadata": {},
   "outputs": [
    {
     "data": {
      "text/plain": [
       "((2000, 15), (2000,))"
      ]
     },
     "execution_count": 2,
     "metadata": {},
     "output_type": "execute_result"
    }
   ],
   "source": [
    "X, y = make_classification(n_samples=2000, n_features=15, n_classes=2)\n",
    "X.shape, y.shape"
   ]
  },
  {
   "cell_type": "code",
   "execution_count": 3,
   "metadata": {},
   "outputs": [],
   "source": [
    "# X = np.hstack([np.ones((1000, 1)), X]) # to add intercept"
   ]
  },
  {
   "cell_type": "code",
   "execution_count": 4,
   "metadata": {},
   "outputs": [
    {
     "data": {
      "text/plain": [
       "(array([-0.03667018,  0.01492523, -0.0309746 , -0.00484411,  0.00367379,\n",
       "         0.01218334, -0.01877608,  0.0129552 , -0.00875274, -0.00455315,\n",
       "         0.00346756, -0.05650412, -0.00218682,  0.00145769, -0.00260444]),\n",
       " array([0.99795658, 1.28405013, 1.01251298, 0.99287907, 0.61233477,\n",
       "        1.31128043, 1.00480726, 0.99362362, 0.99476704, 0.96760842,\n",
       "        0.99098167, 1.00929525, 0.17494743, 0.99223004, 1.00147478]))"
      ]
     },
     "execution_count": 4,
     "metadata": {},
     "output_type": "execute_result"
    }
   ],
   "source": [
    "X.mean(axis=0), X.std(axis=0) # no need to standardize"
   ]
  },
  {
   "cell_type": "markdown",
   "metadata": {},
   "source": [
    "## My Logistic Regression Class realization"
   ]
  },
  {
   "cell_type": "markdown",
   "metadata": {},
   "source": [
    "### Features to add:\n",
    "- <b>Different types of gradient descent (GD) </b>\n",
    "    - Full GD (already implemented)\n",
    "    - stochastic GD (SGD) one random object used to find gradient\n",
    "    - stochastic average SAGD (several random objects used to find gradient)\n",
    "    \n",
    "- <b>Different loss functions </b>\n",
    "    - Logloss (already implemented)\n",
    "    - MSE :) for fun\n",
    "- <b>Info about model </b>\n",
    "    - Coefficients, intercept, parameters set (learning rate, regularization)\n",
    "    - Stats (p-values, confidence intervals, model adequacy)\n",
    "    - Quality metrics w\n",
    "- <b> Marginal Effects (ME) </b>\n",
    "        - ME for each factor (done)\n",
    "        - ME at means, median, at any factors given (done)\n",
    "        - average ME (AME) for each factor (done)\n",
    "- <b> Non-linear factors </b>\n",
    "        - ME for them also"
   ]
  },
  {
   "cell_type": "code",
   "execution_count": 5,
   "metadata": {},
   "outputs": [],
   "source": [
    "class Logreg:\n",
    "    def __init__(self, learning_rate=0.001, iterations=2000, C=2.0):\n",
    "        self.learning_rate = learning_rate\n",
    "        self.iterations = iterations\n",
    "        self.C = C\n",
    "        self.weights = None\n",
    "        self.intercept = None\n",
    "        \n",
    "        # history\n",
    "        self.iters_list = []\n",
    "        self.loss_list = []\n",
    "    \n",
    "    def fit(self, X, y):\n",
    "        # number of observations\n",
    "        n = len(y)\n",
    "        # number of features\n",
    "        k = X.shape[1]\n",
    "        \n",
    "        # recreate history variables in case we fitted model before\n",
    "        self.iters_list = []\n",
    "        self.loss_list = []\n",
    "        \n",
    "        # 1. Initialize weights\n",
    "        self.weights = np.zeros(k)\n",
    "        self.intercept = 0\n",
    "        \n",
    "        for iteration in range(self.iterations):\n",
    "            # 2 Predict\n",
    "            z = np.dot(X, self.weights) + self.intercept\n",
    "            y_hat = 1 / (1 + np.exp(-z))\n",
    "            # 3 Calculate logloss\n",
    "            #logloss = np.sum(-y * np.log(y_hat) - (1 - y) * np.log(1 - y_hat))\n",
    "            logloss = np.sum(np.log(1 + np.exp(- y * y_hat))) + self.C *(np.sum(self.weights**2) +self.intercept**2)\n",
    "        \n",
    "            # 4 Derivative by weights\n",
    "            derivative_weights = (1 / n) * np.dot(X.T, (y_hat - y)) + 2*self.C / n # (a - y) * x\n",
    "            derivative_intercept = (1 / n) * np.sum(y_hat - y) + 2*self.C / n\n",
    "\n",
    "            # 5 Update weights\n",
    "            self.weights -= self.learning_rate * derivative_weights\n",
    "            self.intercept -= self.learning_rate * derivative_intercept\n",
    "            \n",
    "            #print('Iteration:', iteration, 'Total logLoss =', logloss)\n",
    "            \n",
    "            # history update\n",
    "            self.iters_list.append(iteration)\n",
    "            self.loss_list.append(logloss)\n",
    "            # 6 Repeat\n",
    "    \n",
    "\n",
    "    def predict(self, X):\n",
    "        z = np.dot(X, self.weights) + self.intercept\n",
    "        pred = 1 / (1 + np.exp(-z))\n",
    "        return np.array([1 if i > 0.5 else 0 for i in pred])\n",
    "    \n",
    "    def predict_proba(self, X):\n",
    "        z = np.dot(X, self.weights) + self.intercept\n",
    "        return 1 / (1 + np.exp(-z))\n",
    "    \n",
    "    def marginal_effects(self, X, option='all'):\n",
    "        n, k = X.shape\n",
    "        if option == 'all':\n",
    "            z = np.dot(X, self.weights) + self.intercept\n",
    "            return np.dot((np.exp(-z) / (1 + np.exp(-z))**2).reshape(n, 1), logreg.weights.reshape(k, 1).T)\n",
    "        elif option == 'at_means':\n",
    "            z = np.dot(logreg.weights, np.mean(X, axis=0))\n",
    "            return np.dot((np.exp(-z) / (1 + np.exp(-z))**2), logreg.weights)\n",
    "        elif option == 'at_median':\n",
    "            z = np.dot(logreg.weights, np.median(X, axis=0))\n",
    "            return np.dot((np.exp(-z) / (1 + np.exp(-z))**2), logreg.weights)\n",
    "        else:\n",
    "            return 'Specify one of the following options: all, at_means or at_median'"
   ]
  },
  {
   "cell_type": "markdown",
   "metadata": {},
   "source": [
    "### Instantiate, Fit and Predict"
   ]
  },
  {
   "cell_type": "code",
   "execution_count": 6,
   "metadata": {},
   "outputs": [],
   "source": [
    "logreg = Logreg(C=1.0)"
   ]
  },
  {
   "cell_type": "code",
   "execution_count": 7,
   "metadata": {},
   "outputs": [],
   "source": [
    "from sklearn.preprocessing import scale"
   ]
  },
  {
   "cell_type": "code",
   "execution_count": 8,
   "metadata": {},
   "outputs": [],
   "source": [
    "X_scaled = scale(X)"
   ]
  },
  {
   "cell_type": "code",
   "execution_count": 9,
   "metadata": {},
   "outputs": [],
   "source": [
    "logreg.fit(X, y)"
   ]
  },
  {
   "cell_type": "code",
   "execution_count": 10,
   "metadata": {},
   "outputs": [
    {
     "data": {
      "text/plain": [
       "array([0, 1])"
      ]
     },
     "execution_count": 10,
     "metadata": {},
     "output_type": "execute_result"
    }
   ],
   "source": [
    "mine_pred = logreg.predict(X)\n",
    "np.unique(mine_pred)"
   ]
  },
  {
   "cell_type": "markdown",
   "metadata": {},
   "source": [
    "#### Loss graph by iteration"
   ]
  },
  {
   "cell_type": "code",
   "execution_count": 11,
   "metadata": {},
   "outputs": [
    {
     "data": {
      "text/plain": [
       "[<matplotlib.lines.Line2D at 0x1cfb0c39c18>]"
      ]
     },
     "execution_count": 11,
     "metadata": {},
     "output_type": "execute_result"
    },
    {
     "data": {
      "image/png": "[encoded data removed]",
      "text/plain": [
       "<Figure size 432x288 with 1 Axes>"
      ]
     },
     "metadata": {
      "needs_background": "light"
     },
     "output_type": "display_data"
    }
   ],
   "source": [
    "plt.plot(logreg.iters_list, logreg.loss_list)"
   ]
  },
  {
   "cell_type": "markdown",
   "metadata": {},
   "source": [
    "#### Marginal effects for factors"
   ]
  },
  {
   "cell_type": "code",
   "execution_count": 12,
   "metadata": {},
   "outputs": [],
   "source": [
    "marginal_effects = logreg.marginal_effects(X)"
   ]
  },
  {
   "cell_type": "code",
   "execution_count": 13,
   "metadata": {},
   "outputs": [
    {
     "data": {
      "text/plain": [
       "(2000, 15)"
      ]
     },
     "execution_count": 13,
     "metadata": {},
     "output_type": "execute_result"
    }
   ],
   "source": [
    "marginal_effects.shape"
   ]
  },
  {
   "cell_type": "code",
   "execution_count": 14,
   "metadata": {},
   "outputs": [
    {
     "data": {
      "text/plain": [
       "array([0.00100148, 0.00101057, 0.00044951, ..., 0.00101748, 0.00101161,\n",
       "       0.00086596])"
      ]
     },
     "execution_count": 14,
     "metadata": {},
     "output_type": "execute_result"
    }
   ],
   "source": [
    "marginal_effects[:, 0] # for X1 factor"
   ]
  },
  {
   "cell_type": "code",
   "execution_count": 15,
   "metadata": {},
   "outputs": [
    {
     "data": {
      "text/plain": [
       "array([ 1.00148319e-03,  1.70832588e-01,  4.01800156e-03, -2.46169049e-03,\n",
       "       -1.91022844e-02,  4.44082166e-03,  7.79475087e-03, -2.75704128e-03,\n",
       "       -1.33372655e-04, -3.48543795e-03,  2.75369989e-03,  7.96327798e-03,\n",
       "       -2.38042891e-02, -5.15407233e-04,  1.98624052e-03])"
      ]
     },
     "execution_count": 15,
     "metadata": {},
     "output_type": "execute_result"
    }
   ],
   "source": [
    "marginal_effects[0, :] # for all factors for the first observation"
   ]
  },
  {
   "cell_type": "code",
   "execution_count": 16,
   "metadata": {},
   "outputs": [
    {
     "data": {
      "text/plain": [
       "array([ 1.01780650e-03,  1.73617011e-01,  4.08349150e-03, -2.50181391e-03,\n",
       "       -1.94136350e-02,  4.51320319e-03,  7.92179854e-03, -2.80197866e-03,\n",
       "       -1.35546513e-04, -3.54224757e-03,  2.79858281e-03,  8.09307250e-03,\n",
       "       -2.41922783e-02, -5.23807923e-04,  2.01861451e-03])"
      ]
     },
     "execution_count": 16,
     "metadata": {},
     "output_type": "execute_result"
    }
   ],
   "source": [
    "logreg.marginal_effects(X, option='at_means')"
   ]
  },
  {
   "cell_type": "code",
   "execution_count": 17,
   "metadata": {},
   "outputs": [
    {
     "data": {
      "text/plain": [
       "array([ 1.01652788e-03,  1.73398906e-01,  4.07836164e-03, -2.49867102e-03,\n",
       "       -1.93892468e-02,  4.50753351e-03,  7.91184683e-03, -2.79845869e-03,\n",
       "       -1.35376234e-04, -3.53779764e-03,  2.79506711e-03,  8.08290563e-03,\n",
       "       -2.41618869e-02, -5.23149893e-04,  2.01607864e-03])"
      ]
     },
     "execution_count": 17,
     "metadata": {},
     "output_type": "execute_result"
    }
   ],
   "source": [
    "logreg.marginal_effects(X, option='at_median')"
   ]
  },
  {
   "cell_type": "markdown",
   "metadata": {},
   "source": [
    "## Sklearn"
   ]
  },
  {
   "cell_type": "code",
   "execution_count": 18,
   "metadata": {},
   "outputs": [],
   "source": [
    "from sklearn.linear_model import LogisticRegression"
   ]
  },
  {
   "cell_type": "code",
   "execution_count": 19,
   "metadata": {},
   "outputs": [],
   "source": [
    "lr = LogisticRegression(C=1.0)"
   ]
  },
  {
   "cell_type": "code",
   "execution_count": 20,
   "metadata": {},
   "outputs": [
    {
     "data": {
      "text/plain": [
       "LogisticRegression(C=1.0, class_weight=None, dual=False, fit_intercept=True,\n",
       "                   intercept_scaling=1, l1_ratio=None, max_iter=100,\n",
       "                   multi_class='auto', n_jobs=None, penalty='l2',\n",
       "                   random_state=None, solver='lbfgs', tol=0.0001, verbose=0,\n",
       "                   warm_start=False)"
      ]
     },
     "execution_count": 20,
     "metadata": {},
     "output_type": "execute_result"
    }
   ],
   "source": [
    "lr.fit(X, y)"
   ]
  },
  {
   "cell_type": "code",
   "execution_count": 21,
   "metadata": {},
   "outputs": [
    {
     "data": {
      "text/plain": [
       "array([0.15306054])"
      ]
     },
     "execution_count": 21,
     "metadata": {},
     "output_type": "execute_result"
    }
   ],
   "source": [
    "lr.intercept_"
   ]
  },
  {
   "cell_type": "code",
   "execution_count": 22,
   "metadata": {},
   "outputs": [
    {
     "data": {
      "text/plain": [
       "array([[ 1.82030601e-02,  2.93474235e+00,  1.52766323e-01,\n",
       "        -5.77462255e-02, -3.60890794e-01, -8.95616637e-03,\n",
       "         1.11894060e-01, -2.77137295e-02, -2.53162583e-03,\n",
       "        -4.04259357e-02,  1.91928992e-02,  1.22295272e-01,\n",
       "        -3.98093673e-01, -3.91775475e-02,  1.01562956e-01]])"
      ]
     },
     "execution_count": 22,
     "metadata": {},
     "output_type": "execute_result"
    }
   ],
   "source": [
    "lr.coef_"
   ]
  },
  {
   "cell_type": "code",
   "execution_count": 23,
   "metadata": {},
   "outputs": [],
   "source": [
    "pred = lr.predict(X)"
   ]
  },
  {
   "cell_type": "code",
   "execution_count": 24,
   "metadata": {},
   "outputs": [
    {
     "data": {
      "text/plain": [
       "((2000,), (2000,))"
      ]
     },
     "execution_count": 24,
     "metadata": {},
     "output_type": "execute_result"
    }
   ],
   "source": [
    "y.shape, pred.shape"
   ]
  },
  {
   "cell_type": "code",
   "execution_count": 25,
   "metadata": {},
   "outputs": [
    {
     "data": {
      "text/plain": [
       "(array([0, 1]), array([0, 1]))"
      ]
     },
     "execution_count": 25,
     "metadata": {},
     "output_type": "execute_result"
    }
   ],
   "source": [
    "np.unique(y), np.unique(pred)"
   ]
  },
  {
   "cell_type": "markdown",
   "metadata": {},
   "source": [
    "## Comparison: Mine VS Sklearn"
   ]
  },
  {
   "cell_type": "code",
   "execution_count": 26,
   "metadata": {},
   "outputs": [],
   "source": [
    "from sklearn.metrics import accuracy_score, roc_auc_score, confusion_matrix"
   ]
  },
  {
   "cell_type": "code",
   "execution_count": 27,
   "metadata": {},
   "outputs": [
    {
     "data": {
      "text/plain": [
       "(0.9065, 0.9064874064874064)"
      ]
     },
     "execution_count": 27,
     "metadata": {},
     "output_type": "execute_result"
    }
   ],
   "source": [
    "accuracy_score(y, pred), roc_auc_score(y, pred)"
   ]
  },
  {
   "cell_type": "code",
   "execution_count": 28,
   "metadata": {},
   "outputs": [
    {
     "data": {
      "text/plain": [
       "(0.907, 0.906978906978907)"
      ]
     },
     "execution_count": 28,
     "metadata": {},
     "output_type": "execute_result"
    }
   ],
   "source": [
    "accuracy_score(y, mine_pred), roc_auc_score(y, mine_pred)"
   ]
  },
  {
   "cell_type": "code",
   "execution_count": 29,
   "metadata": {},
   "outputs": [
    {
     "data": {
      "text/plain": [
       "array([ 4.07128201e-03,  6.94477602e-01,  1.63341908e-02, -1.00073933e-02,\n",
       "       -7.76556088e-02,  1.80530612e-02,  3.16876302e-02, -1.12080689e-02,\n",
       "       -5.42193514e-04, -1.41691853e-02,  1.11944853e-02,  3.23727355e-02,\n",
       "       -9.67704450e-02, -2.09526053e-03,  8.07456917e-03])"
      ]
     },
     "execution_count": 29,
     "metadata": {},
     "output_type": "execute_result"
    }
   ],
   "source": [
    "logreg.weights"
   ]
  },
  {
   "cell_type": "markdown",
   "metadata": {},
   "source": [
    "#### Predictions check for my logreg"
   ]
  },
  {
   "cell_type": "code",
   "execution_count": 30,
   "metadata": {},
   "outputs": [],
   "source": [
    "mine_pred_proba = logreg.predict_proba(X)"
   ]
  },
  {
   "cell_type": "code",
   "execution_count": 31,
   "metadata": {},
   "outputs": [
    {
     "data": {
      "text/plain": [
       "(0.5633468066086639, 1)"
      ]
     },
     "execution_count": 31,
     "metadata": {},
     "output_type": "execute_result"
    }
   ],
   "source": [
    "mine_pred_proba[0], mine_pred[0]"
   ]
  },
  {
   "cell_type": "code",
   "execution_count": 32,
   "metadata": {},
   "outputs": [],
   "source": [
    "one_obs = X[0, :].T"
   ]
  },
  {
   "cell_type": "code",
   "execution_count": 33,
   "metadata": {},
   "outputs": [],
   "source": [
    "z = np.dot(one_obs, logreg.weights) + logreg.intercept"
   ]
  },
  {
   "cell_type": "code",
   "execution_count": 34,
   "metadata": {},
   "outputs": [
    {
     "data": {
      "text/plain": [
       "0.5633468066086639"
      ]
     },
     "execution_count": 34,
     "metadata": {},
     "output_type": "execute_result"
    }
   ],
   "source": [
    "1 / (1 + np.exp(-z)) # prediction is correct"
   ]
  },
  {
   "cell_type": "code",
   "execution_count": 35,
   "metadata": {},
   "outputs": [
    {
     "data": {
      "text/plain": [
       "array([ 0.24000804,  0.43804054,  0.330261  ,  1.16558272,  0.14880509,\n",
       "        0.44853981, -1.41070296, -0.86204044, -0.48482581,  0.3547128 ,\n",
       "       -0.58756988,  0.16258274, -0.06538799,  0.72961785, -0.14515774])"
      ]
     },
     "execution_count": 35,
     "metadata": {},
     "output_type": "execute_result"
    }
   ],
   "source": [
    "one_obs"
   ]
  },
  {
   "cell_type": "code",
   "execution_count": 36,
   "metadata": {},
   "outputs": [],
   "source": [
    "one_obs[0] = one_obs[0] + 1"
   ]
  },
  {
   "cell_type": "code",
   "execution_count": 37,
   "metadata": {},
   "outputs": [
    {
     "data": {
      "text/plain": [
       "array([ 1.24000804,  0.43804054,  0.330261  ,  1.16558272,  0.14880509,\n",
       "        0.44853981, -1.41070296, -0.86204044, -0.48482581,  0.3547128 ,\n",
       "       -0.58756988,  0.16258274, -0.06538799,  0.72961785, -0.14515774])"
      ]
     },
     "execution_count": 37,
     "metadata": {},
     "output_type": "execute_result"
    }
   ],
   "source": [
    "one_obs"
   ]
  },
  {
   "cell_type": "code",
   "execution_count": 38,
   "metadata": {},
   "outputs": [],
   "source": [
    "z = np.dot(one_obs, logreg.weights) + logreg.intercept"
   ]
  },
  {
   "cell_type": "code",
   "execution_count": 39,
   "metadata": {},
   "outputs": [
    {
     "data": {
      "text/plain": [
       "0.5643480301961916"
      ]
     },
     "execution_count": 39,
     "metadata": {},
     "output_type": "execute_result"
    }
   ],
   "source": [
    "1 / (1 + np.exp(-z))"
   ]
  },
  {
   "cell_type": "code",
   "execution_count": null,
   "metadata": {},
   "outputs": [],
   "source": []
  },
  {
   "cell_type": "markdown",
   "metadata": {},
   "source": [
    "### Marginal Effects"
   ]
  },
  {
   "cell_type": "code",
   "execution_count": 40,
   "metadata": {},
   "outputs": [],
   "source": [
    "# 1 / (1 + e^(-z)) where z = b0 + b1*x1 + ... + bn*xn\n",
    "# so the ME for X1 will be e^(-z)/(1 + e^(-z))^2 * b1"
   ]
  },
  {
   "cell_type": "markdown",
   "metadata": {},
   "source": [
    "#### Marginal effect for one observation"
   ]
  },
  {
   "cell_type": "code",
   "execution_count": 41,
   "metadata": {},
   "outputs": [
    {
     "data": {
      "text/plain": [
       "((15,), (15,))"
      ]
     },
     "execution_count": 41,
     "metadata": {},
     "output_type": "execute_result"
    }
   ],
   "source": [
    "X[0, :].shape, logreg.weights.shape"
   ]
  },
  {
   "cell_type": "code",
   "execution_count": 42,
   "metadata": {},
   "outputs": [],
   "source": [
    "z = np.dot(X[0, :].T, logreg.weights) + logreg.intercept"
   ]
  },
  {
   "cell_type": "code",
   "execution_count": 43,
   "metadata": {},
   "outputs": [
    {
     "data": {
      "text/plain": [
       "0.004071282008505535"
      ]
     },
     "execution_count": 43,
     "metadata": {},
     "output_type": "execute_result"
    }
   ],
   "source": [
    "logreg.weights[0] # the sign is negative, so the ME should also be negative"
   ]
  },
  {
   "cell_type": "code",
   "execution_count": 44,
   "metadata": {},
   "outputs": [
    {
     "data": {
      "text/plain": [
       "0.0010009626709636908"
      ]
     },
     "execution_count": 44,
     "metadata": {},
     "output_type": "execute_result"
    }
   ],
   "source": [
    "np.exp(-z) / (1 + np.exp(-z))**2 * logreg.weights[0] # ME for X1 for one observation\n",
    "# if X1 increases by 1 then probability of getting y=1 is decreased by this number"
   ]
  },
  {
   "cell_type": "markdown",
   "metadata": {},
   "source": [
    "#### Another way of getting marginal effect using difference of probabilities"
   ]
  },
  {
   "cell_type": "code",
   "execution_count": 45,
   "metadata": {},
   "outputs": [],
   "source": [
    "x = X[0, :].T"
   ]
  },
  {
   "cell_type": "code",
   "execution_count": 46,
   "metadata": {},
   "outputs": [
    {
     "data": {
      "text/plain": [
       "array([ 1.24000804,  0.43804054,  0.330261  ,  1.16558272,  0.14880509,\n",
       "        0.44853981, -1.41070296, -0.86204044, -0.48482581,  0.3547128 ,\n",
       "       -0.58756988,  0.16258274, -0.06538799,  0.72961785, -0.14515774])"
      ]
     },
     "execution_count": 46,
     "metadata": {},
     "output_type": "execute_result"
    }
   ],
   "source": [
    "x"
   ]
  },
  {
   "cell_type": "code",
   "execution_count": 47,
   "metadata": {},
   "outputs": [],
   "source": [
    "z_0 = np.dot(x, logreg.weights) + logreg.intercept"
   ]
  },
  {
   "cell_type": "code",
   "execution_count": 48,
   "metadata": {},
   "outputs": [
    {
     "data": {
      "text/plain": [
       "0.2588274458062403"
      ]
     },
     "execution_count": 48,
     "metadata": {},
     "output_type": "execute_result"
    }
   ],
   "source": [
    "z_0"
   ]
  },
  {
   "cell_type": "code",
   "execution_count": 49,
   "metadata": {},
   "outputs": [],
   "source": [
    "z_0 = 1 / (1 + np.exp(-z_0))"
   ]
  },
  {
   "cell_type": "code",
   "execution_count": 50,
   "metadata": {},
   "outputs": [
    {
     "data": {
      "text/plain": [
       "0.5643480301961916"
      ]
     },
     "execution_count": 50,
     "metadata": {},
     "output_type": "execute_result"
    }
   ],
   "source": [
    "z_0"
   ]
  },
  {
   "cell_type": "code",
   "execution_count": 51,
   "metadata": {},
   "outputs": [],
   "source": [
    "x[0] = x[0] + 1"
   ]
  },
  {
   "cell_type": "code",
   "execution_count": 52,
   "metadata": {},
   "outputs": [
    {
     "data": {
      "text/plain": [
       "array([ 2.24000804,  0.43804054,  0.330261  ,  1.16558272,  0.14880509,\n",
       "        0.44853981, -1.41070296, -0.86204044, -0.48482581,  0.3547128 ,\n",
       "       -0.58756988,  0.16258274, -0.06538799,  0.72961785, -0.14515774])"
      ]
     },
     "execution_count": 52,
     "metadata": {},
     "output_type": "execute_result"
    }
   ],
   "source": [
    "x"
   ]
  },
  {
   "cell_type": "code",
   "execution_count": 53,
   "metadata": {},
   "outputs": [],
   "source": [
    "z_1 = np.dot(x, logreg.weights) + logreg.intercept"
   ]
  },
  {
   "cell_type": "code",
   "execution_count": 54,
   "metadata": {},
   "outputs": [
    {
     "data": {
      "text/plain": [
       "0.26289872781474577"
      ]
     },
     "execution_count": 54,
     "metadata": {},
     "output_type": "execute_result"
    }
   ],
   "source": [
    "z_1"
   ]
  },
  {
   "cell_type": "code",
   "execution_count": 55,
   "metadata": {},
   "outputs": [],
   "source": [
    "z_1 = 1 / (1 + np.exp(-z_1))"
   ]
  },
  {
   "cell_type": "code",
   "execution_count": 56,
   "metadata": {},
   "outputs": [
    {
     "data": {
      "text/plain": [
       "0.5653487293227778"
      ]
     },
     "execution_count": 56,
     "metadata": {},
     "output_type": "execute_result"
    }
   ],
   "source": [
    "z_1"
   ]
  },
  {
   "cell_type": "code",
   "execution_count": 57,
   "metadata": {},
   "outputs": [
    {
     "data": {
      "text/plain": [
       "(0.5643480301961916, 0.5653487293227778)"
      ]
     },
     "execution_count": 57,
     "metadata": {},
     "output_type": "execute_result"
    }
   ],
   "source": [
    "z_0, z_1"
   ]
  },
  {
   "cell_type": "code",
   "execution_count": 58,
   "metadata": {},
   "outputs": [
    {
     "data": {
      "text/plain": [
       "0.0010006991265861798"
      ]
     },
     "execution_count": 58,
     "metadata": {},
     "output_type": "execute_result"
    }
   ],
   "source": [
    "z_1 - z_0 # MARGINAL EFFECT FOR THE FIRST OBSERVATION. THE SAME AS IN THE BEGINING"
   ]
  },
  {
   "cell_type": "markdown",
   "metadata": {},
   "source": [
    "#### Marginal effect for X1 and for all factors"
   ]
  },
  {
   "cell_type": "code",
   "execution_count": 59,
   "metadata": {},
   "outputs": [
    {
     "data": {
      "text/plain": [
       "((2000, 15), (15,))"
      ]
     },
     "execution_count": 59,
     "metadata": {},
     "output_type": "execute_result"
    }
   ],
   "source": [
    "X.shape, logreg.weights.shape"
   ]
  },
  {
   "cell_type": "code",
   "execution_count": 60,
   "metadata": {},
   "outputs": [],
   "source": [
    "z = np.dot(X, logreg.weights) + logreg.intercept"
   ]
  },
  {
   "cell_type": "code",
   "execution_count": 61,
   "metadata": {},
   "outputs": [],
   "source": [
    "ME_x1 = np.exp(-z) / (1 + np.exp(-z))**2 * logreg.weights[0]"
   ]
  },
  {
   "cell_type": "code",
   "execution_count": 62,
   "metadata": {},
   "outputs": [
    {
     "data": {
      "text/plain": [
       "((2000,), (15,))"
      ]
     },
     "execution_count": 62,
     "metadata": {},
     "output_type": "execute_result"
    }
   ],
   "source": [
    "z.shape, logreg.weights.shape"
   ]
  },
  {
   "cell_type": "code",
   "execution_count": 63,
   "metadata": {},
   "outputs": [],
   "source": [
    "ME_all = np.dot((np.exp(-z) / (1 + np.exp(-z))**2).reshape(2000, 1), logreg.weights.reshape(15, 1).T)"
   ]
  },
  {
   "cell_type": "code",
   "execution_count": 64,
   "metadata": {},
   "outputs": [
    {
     "data": {
      "text/plain": [
       "(2000, 15)"
      ]
     },
     "execution_count": 64,
     "metadata": {},
     "output_type": "execute_result"
    }
   ],
   "source": [
    "ME_all.shape"
   ]
  },
  {
   "cell_type": "code",
   "execution_count": 65,
   "metadata": {},
   "outputs": [
    {
     "data": {
      "text/plain": [
       "array([0.00100043, 0.00101057, 0.00044951, 0.00067197, 0.00097612,\n",
       "       0.00091066])"
      ]
     },
     "execution_count": 65,
     "metadata": {},
     "output_type": "execute_result"
    }
   ],
   "source": [
    "ME_all[:6, 0] # ME for X1"
   ]
  },
  {
   "cell_type": "code",
   "execution_count": 66,
   "metadata": {},
   "outputs": [
    {
     "data": {
      "text/plain": [
       "array([0.00100043, 0.00101057, 0.00044951, 0.00067197, 0.00097612,\n",
       "       0.00091066])"
      ]
     },
     "execution_count": 66,
     "metadata": {},
     "output_type": "execute_result"
    }
   ],
   "source": [
    "ME_x1[:6] # also ME for X1 but calculated separately"
   ]
  },
  {
   "cell_type": "code",
   "execution_count": 67,
   "metadata": {
    "scrolled": true
   },
   "outputs": [
    {
     "data": {
      "text/plain": [
       "0.0008504749181386991"
      ]
     },
     "execution_count": 67,
     "metadata": {},
     "output_type": "execute_result"
    }
   ],
   "source": [
    "np.mean(ME_x1) # AME average marginal effect for X1"
   ]
  },
  {
   "cell_type": "code",
   "execution_count": 68,
   "metadata": {},
   "outputs": [
    {
     "data": {
      "text/plain": [
       "0.0008504749181386991"
      ]
     },
     "execution_count": 68,
     "metadata": {},
     "output_type": "execute_result"
    }
   ],
   "source": [
    "logreg.marginal_effects(X)[:, 0].mean()"
   ]
  },
  {
   "cell_type": "code",
   "execution_count": 69,
   "metadata": {},
   "outputs": [
    {
     "data": {
      "text/plain": [
       "array([[-0.05473893, -0.09981011, -0.02099247,  0.00176019, -0.08463836,\n",
       "        -0.25326815,  0.01373517,  0.01741207,  0.0117126 , -0.00578525,\n",
       "        -0.02174051, -0.05497127,  0.01496919,  0.00336274, -0.03000014]])"
      ]
     },
     "execution_count": 69,
     "metadata": {},
     "output_type": "execute_result"
    }
   ],
   "source": [
    "np.median(X, axis=0).reshape(1, 15)"
   ]
  },
  {
   "cell_type": "code",
   "execution_count": 70,
   "metadata": {},
   "outputs": [],
   "source": [
    "z = np.dot(logreg.weights, np.median(X, axis=0))"
   ]
  },
  {
   "cell_type": "code",
   "execution_count": 71,
   "metadata": {},
   "outputs": [
    {
     "data": {
      "text/plain": [
       "array([ 1.01652788e-03,  1.73398906e-01,  4.07836164e-03, -2.49867102e-03,\n",
       "       -1.93892468e-02,  4.50753351e-03,  7.91184683e-03, -2.79845869e-03,\n",
       "       -1.35376234e-04, -3.53779764e-03,  2.79506711e-03,  8.08290563e-03,\n",
       "       -2.41618869e-02, -5.23149893e-04,  2.01607864e-03])"
      ]
     },
     "execution_count": 71,
     "metadata": {},
     "output_type": "execute_result"
    }
   ],
   "source": [
    "np.dot((np.exp(-z) / (1 + np.exp(-z))**2), logreg.weights)"
   ]
  },
  {
   "cell_type": "code",
   "execution_count": 72,
   "metadata": {},
   "outputs": [
    {
     "data": {
      "text/plain": [
       "array([ 1.01652788e-03,  1.73398906e-01,  4.07836164e-03, -2.49867102e-03,\n",
       "       -1.93892468e-02,  4.50753351e-03,  7.91184683e-03, -2.79845869e-03,\n",
       "       -1.35376234e-04, -3.53779764e-03,  2.79506711e-03,  8.08290563e-03,\n",
       "       -2.41618869e-02, -5.23149893e-04,  2.01607864e-03])"
      ]
     },
     "execution_count": 72,
     "metadata": {},
     "output_type": "execute_result"
    }
   ],
   "source": [
    "logreg.marginal_effects(X, option='at_median')"
   ]
  },
  {
   "cell_type": "code",
   "execution_count": null,
   "metadata": {},
   "outputs": [],
   "source": []
  },
  {
   "cell_type": "code",
   "execution_count": null,
   "metadata": {},
   "outputs": [],
   "source": []
  },
  {
   "cell_type": "code",
   "execution_count": null,
   "metadata": {},
   "outputs": [],
   "source": []
  }
 ],
 "metadata": {
  "kernelspec": {
   "display_name": "Python 3",
   "language": "python",
   "name": "python3"
  },
  "language_info": {
   "codemirror_mode": {
    "name": "ipython",
    "version": 3
   },
   "file_extension": ".py",
   "mimetype": "text/x-python",
   "name": "python",
   "nbconvert_exporter": "python",
   "pygments_lexer": "ipython3",
   "version": "3.6.5"
  }
 },
 "nbformat": 4,
 "nbformat_minor": 4
}
