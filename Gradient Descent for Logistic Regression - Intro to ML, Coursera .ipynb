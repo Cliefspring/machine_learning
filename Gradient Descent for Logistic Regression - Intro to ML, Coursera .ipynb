{
 "cells": [
  {
   "cell_type": "markdown",
   "metadata": {},
   "source": [
    "## Import Libraries"
   ]
  },
  {
   "cell_type": "code",
   "execution_count": 1,
   "metadata": {},
   "outputs": [],
   "source": [
    "import pandas as pd\n",
    "import numpy as np\n",
    "import matplotlib.pyplot as plt\n",
    "from sklearn.metrics import roc_auc_score"
   ]
  },
  {
   "cell_type": "markdown",
   "metadata": {},
   "source": [
    "## Import Data"
   ]
  },
  {
   "cell_type": "code",
   "execution_count": 2,
   "metadata": {},
   "outputs": [
    {
     "data": {
      "text/plain": [
       "(205, 3)"
      ]
     },
     "execution_count": 2,
     "metadata": {},
     "output_type": "execute_result"
    }
   ],
   "source": [
    "data = pd.read_csv('data-logistic.csv', header=None)\n",
    "data.shape"
   ]
  },
  {
   "cell_type": "code",
   "execution_count": 3,
   "metadata": {},
   "outputs": [
    {
     "data": {
      "text/html": [
       "<div>\n",
       "<style scoped>\n",
       "    .dataframe tbody tr th:only-of-type {\n",
       "        vertical-align: middle;\n",
       "    }\n",
       "\n",
       "    .dataframe tbody tr th {\n",
       "        vertical-align: top;\n",
       "    }\n",
       "\n",
       "    .dataframe thead th {\n",
       "        text-align: right;\n",
       "    }\n",
       "</style>\n",
       "<table border=\"1\" class=\"dataframe\">\n",
       "  <thead>\n",
       "    <tr style=\"text-align: right;\">\n",
       "      <th></th>\n",
       "      <th>0</th>\n",
       "      <th>1</th>\n",
       "      <th>2</th>\n",
       "    </tr>\n",
       "  </thead>\n",
       "  <tbody>\n",
       "    <tr>\n",
       "      <th>0</th>\n",
       "      <td>-1</td>\n",
       "      <td>-0.663827</td>\n",
       "      <td>-0.138526</td>\n",
       "    </tr>\n",
       "    <tr>\n",
       "      <th>1</th>\n",
       "      <td>1</td>\n",
       "      <td>1.994596</td>\n",
       "      <td>2.468025</td>\n",
       "    </tr>\n",
       "    <tr>\n",
       "      <th>2</th>\n",
       "      <td>-1</td>\n",
       "      <td>-1.247395</td>\n",
       "      <td>0.749425</td>\n",
       "    </tr>\n",
       "  </tbody>\n",
       "</table>\n",
       "</div>"
      ],
      "text/plain": [
       "   0         1         2\n",
       "0 -1 -0.663827 -0.138526\n",
       "1  1  1.994596  2.468025\n",
       "2 -1 -1.247395  0.749425"
      ]
     },
     "execution_count": 3,
     "metadata": {},
     "output_type": "execute_result"
    }
   ],
   "source": [
    "data.head(3)"
   ]
  },
  {
   "cell_type": "code",
   "execution_count": 4,
   "metadata": {},
   "outputs": [
    {
     "data": {
      "text/plain": [
       " 1    105\n",
       "-1    100\n",
       "Name: 0, dtype: int64"
      ]
     },
     "execution_count": 4,
     "metadata": {},
     "output_type": "execute_result"
    }
   ],
   "source": [
    "data.iloc[:, 0].value_counts() # almost equal number of classes"
   ]
  },
  {
   "cell_type": "markdown",
   "metadata": {},
   "source": [
    "### Separate the target variable from the features"
   ]
  },
  {
   "cell_type": "code",
   "execution_count": 5,
   "metadata": {},
   "outputs": [],
   "source": [
    "y = data.iloc[:, 0]\n",
    "X = data.iloc[:, [1, 2]]\n",
    "X = X.values"
   ]
  },
  {
   "cell_type": "markdown",
   "metadata": {},
   "source": [
    "### Gradient Descent Class realization"
   ]
  },
  {
   "cell_type": "code",
   "execution_count": 6,
   "metadata": {},
   "outputs": [],
   "source": [
    "class GD_LR_2vars:\n",
    "    \"\"\"\n",
    "    Gradient Descent realization for Logistic Regression with 2 variables without intercept\n",
    "    and with l2 regularization (Ridge) (optional parameter)\n",
    " \"\"\"\n",
    "    \n",
    "    \n",
    "    def __init__(self, w_0=np.array([0, 0]), learning_rate=0.1, max_iters=10000, ostanova=1e-5, C=10):\n",
    "        self.w = None # weights that will be obtained after applying \"fit\" method\n",
    "        self.w_0 = w_0 # initial weights\n",
    "        self.learning_rate =learning_rate\n",
    "        self.max_iters = max_iters # maximum iterations\n",
    "        self.ostanova = ostanova # euclid distance of weights' vectors between iterations\n",
    "        self.C = C # regularization coefficient\n",
    "        # history variables\n",
    "        self.iters_list = []\n",
    "        self.euclids_list = []\n",
    "        self.loss_list = []\n",
    "        self.w1_list = []\n",
    "        self.w2_list = []\n",
    "    \n",
    "    \n",
    "    def weights_update(self, X, y):\n",
    "        # number of observations\n",
    "        n = X.shape[0]\n",
    "        # weights\n",
    "        w1, w2 = self.w\n",
    "        # variables unpacking\n",
    "        x1 = X[:, 0]\n",
    "        x2 = X[:, 1]\n",
    "        # sums update\n",
    "        sum_w1 = sum(y * x1 * (1- 1 / (1 + np.exp(-y * (w1 * x1 + w2 * x2)))))\n",
    "        sum_w2 = sum(y * x2 * (1 -1 / (1 + np.exp(-y * (w1 * x1 + w2 * x2)))))\n",
    "        # weights update\n",
    "        w1 = w1 + self.learning_rate * (1/n * sum_w1) - self.learning_rate * self.C * w1\n",
    "        w2 = w2 + self.learning_rate * (1/n * sum_w2) - self.learning_rate * self.C * w2\n",
    "        new_weights = np.array([w1, w2])\n",
    "        return new_weights\n",
    "    \n",
    "    \n",
    "    def loss_compute(self, X, y):\n",
    "        n = X.shape[0]\n",
    "        x1 = X[:, 0]\n",
    "        x2 = X[:, 1]\n",
    "        w1, w2 = self.w\n",
    "        return sum(np.log(1 + np.exp(-y * (w1 * x1 + w2 * x2)))) / n + 1/2 * self.C * (w1**2 + w2**2)**2\n",
    "    \n",
    "    \n",
    "    def fit(self, X, y):\n",
    "        # make it more than \"ostanova\" just to go inside the while loop\n",
    "        euclid_distance = 99999\n",
    "        # initial weights\n",
    "        self.w = self.w_0\n",
    "        # weights and \"iteration\" are set to zero only to define the variables before the loop\n",
    "        new_weights, old_weights = np.array([0, 0])\n",
    "        iteration = 0\n",
    "        while (euclid_distance >= self.ostanova) and (iteration < self.max_iters):\n",
    "            iteration += 1\n",
    "            # weights update\n",
    "            new_weights = gd.weights_update(X, y)    \n",
    "            # euclid distance calculation\n",
    "            if iteration == 0:\n",
    "                euclid_distance = np.sqrt(np.sum((new_weights - self.w_0)**2))\n",
    "            euclid_distance = np.sqrt(np.sum((new_weights - old_weights)**2))          \n",
    "            # weights are saved for the next iteration\n",
    "            old_weights = new_weights\n",
    "            \n",
    "            # history writing\n",
    "            self.iters_list.append(iteration)\n",
    "            self.w = new_weights\n",
    "            self.w1_list.append(new_weights[0])\n",
    "            self.w2_list.append(new_weights[1])\n",
    "            self.euclids_list.append(euclid_distance)\n",
    "            # loss computation\n",
    "            self.loss_list.append(gd.loss_compute(X, y))\n",
    "\n",
    "            \n",
    "    def predict(self, X):\n",
    "        return np.sum(X * self.w, axis=1)\n",
    "    \n",
    "    \n",
    "    def show_history(self):\n",
    "        return pd.DataFrame({'iteration':self.iters_list, 'w1':self.w1_list, 'w2':self.w2_list, \n",
    "                            'euclid_distance':self.euclids_list, 'loss': self.loss_list})\n",
    "    \n",
    "    \n",
    "    def show_loss_history(self):\n",
    "        df = gd.show_history()\n",
    "        plt.figure(figsize=(14, 6))\n",
    "        plt.plot(df['iteration'], df['loss'])\n",
    "        plt.title('Loss by iterations')\n",
    "        plt.ylabel('Loss value')\n",
    "        plt.xlabel('Iteration number')"
   ]
  },
  {
   "cell_type": "markdown",
   "metadata": {},
   "source": [
    "### Without regularization"
   ]
  },
  {
   "cell_type": "code",
   "execution_count": 7,
   "metadata": {},
   "outputs": [],
   "source": [
    "gd = GD_LR_2vars(C=0)"
   ]
  },
  {
   "cell_type": "code",
   "execution_count": 8,
   "metadata": {},
   "outputs": [],
   "source": [
    "gd.fit(X, y)"
   ]
  },
  {
   "cell_type": "code",
   "execution_count": 9,
   "metadata": {},
   "outputs": [],
   "source": [
    "y_pred = gd.predict(X)"
   ]
  },
  {
   "cell_type": "code",
   "execution_count": 10,
   "metadata": {},
   "outputs": [
    {
     "data": {
      "text/plain": [
       "0.9268571428571428"
      ]
     },
     "execution_count": 10,
     "metadata": {},
     "output_type": "execute_result"
    }
   ],
   "source": [
    "roc_auc_score(y, y_pred)"
   ]
  },
  {
   "cell_type": "code",
   "execution_count": 11,
   "metadata": {},
   "outputs": [
    {
     "data": {
      "text/plain": [
       "(244, 5)"
      ]
     },
     "execution_count": 11,
     "metadata": {},
     "output_type": "execute_result"
    }
   ],
   "source": [
    "history = gd.show_history()\n",
    "history.shape"
   ]
  },
  {
   "cell_type": "code",
   "execution_count": 12,
   "metadata": {},
   "outputs": [
    {
     "data": {
      "text/html": [
       "<div>\n",
       "<style scoped>\n",
       "    .dataframe tbody tr th:only-of-type {\n",
       "        vertical-align: middle;\n",
       "    }\n",
       "\n",
       "    .dataframe tbody tr th {\n",
       "        vertical-align: top;\n",
       "    }\n",
       "\n",
       "    .dataframe thead th {\n",
       "        text-align: right;\n",
       "    }\n",
       "</style>\n",
       "<table border=\"1\" class=\"dataframe\">\n",
       "  <thead>\n",
       "    <tr style=\"text-align: right;\">\n",
       "      <th></th>\n",
       "      <th>iteration</th>\n",
       "      <th>w1</th>\n",
       "      <th>w2</th>\n",
       "      <th>euclid_distance</th>\n",
       "      <th>loss</th>\n",
       "    </tr>\n",
       "  </thead>\n",
       "  <tbody>\n",
       "    <tr>\n",
       "      <th>0</th>\n",
       "      <td>1</td>\n",
       "      <td>0.035731</td>\n",
       "      <td>0.032460</td>\n",
       "      <td>0.048274</td>\n",
       "      <td>0.673091</td>\n",
       "    </tr>\n",
       "    <tr>\n",
       "      <th>1</th>\n",
       "      <td>2</td>\n",
       "      <td>0.062430</td>\n",
       "      <td>0.055213</td>\n",
       "      <td>0.035079</td>\n",
       "      <td>0.662263</td>\n",
       "    </tr>\n",
       "    <tr>\n",
       "      <th>2</th>\n",
       "      <td>3</td>\n",
       "      <td>0.083434</td>\n",
       "      <td>0.072025</td>\n",
       "      <td>0.026903</td>\n",
       "      <td>0.655757</td>\n",
       "    </tr>\n",
       "  </tbody>\n",
       "</table>\n",
       "</div>"
      ],
      "text/plain": [
       "   iteration        w1        w2  euclid_distance      loss\n",
       "0          1  0.035731  0.032460         0.048274  0.673091\n",
       "1          2  0.062430  0.055213         0.035079  0.662263\n",
       "2          3  0.083434  0.072025         0.026903  0.655757"
      ]
     },
     "execution_count": 12,
     "metadata": {},
     "output_type": "execute_result"
    }
   ],
   "source": [
    "history.head(3)"
   ]
  },
  {
   "cell_type": "code",
   "execution_count": 13,
   "metadata": {},
   "outputs": [
    {
     "data": {
      "image/png": "[encoded data removed]",
      "text/plain": [
       "<Figure size 1008x432 with 1 Axes>"
      ]
     },
     "metadata": {
      "needs_background": "light"
     },
     "output_type": "display_data"
    }
   ],
   "source": [
    "gd.show_loss_history()"
   ]
  },
  {
   "cell_type": "markdown",
   "metadata": {},
   "source": [
    "### With regularization"
   ]
  },
  {
   "cell_type": "code",
   "execution_count": 14,
   "metadata": {},
   "outputs": [],
   "source": [
    "gd = GD_LR_2vars(C=10)"
   ]
  },
  {
   "cell_type": "code",
   "execution_count": 15,
   "metadata": {},
   "outputs": [],
   "source": [
    "gd.fit(X, y)"
   ]
  },
  {
   "cell_type": "code",
   "execution_count": 16,
   "metadata": {},
   "outputs": [],
   "source": [
    "y_pred = gd.predict(X)"
   ]
  },
  {
   "cell_type": "code",
   "execution_count": 17,
   "metadata": {},
   "outputs": [
    {
     "data": {
      "text/plain": [
       "0.9362857142857142"
      ]
     },
     "execution_count": 17,
     "metadata": {},
     "output_type": "execute_result"
    }
   ],
   "source": [
    "roc_auc_score(y, y_pred)"
   ]
  },
  {
   "cell_type": "code",
   "execution_count": 18,
   "metadata": {},
   "outputs": [
    {
     "data": {
      "text/plain": [
       "(8, 5)"
      ]
     },
     "execution_count": 18,
     "metadata": {},
     "output_type": "execute_result"
    }
   ],
   "source": [
    "history = gd.show_history()\n",
    "history.shape"
   ]
  },
  {
   "cell_type": "code",
   "execution_count": 19,
   "metadata": {},
   "outputs": [
    {
     "data": {
      "text/html": [
       "<div>\n",
       "<style scoped>\n",
       "    .dataframe tbody tr th:only-of-type {\n",
       "        vertical-align: middle;\n",
       "    }\n",
       "\n",
       "    .dataframe tbody tr th {\n",
       "        vertical-align: top;\n",
       "    }\n",
       "\n",
       "    .dataframe thead th {\n",
       "        text-align: right;\n",
       "    }\n",
       "</style>\n",
       "<table border=\"1\" class=\"dataframe\">\n",
       "  <thead>\n",
       "    <tr style=\"text-align: right;\">\n",
       "      <th></th>\n",
       "      <th>iteration</th>\n",
       "      <th>w1</th>\n",
       "      <th>w2</th>\n",
       "      <th>euclid_distance</th>\n",
       "      <th>loss</th>\n",
       "    </tr>\n",
       "  </thead>\n",
       "  <tbody>\n",
       "    <tr>\n",
       "      <th>0</th>\n",
       "      <td>1</td>\n",
       "      <td>0.035731</td>\n",
       "      <td>0.032460</td>\n",
       "      <td>0.048274</td>\n",
       "      <td>0.673119</td>\n",
       "    </tr>\n",
       "    <tr>\n",
       "      <th>1</th>\n",
       "      <td>2</td>\n",
       "      <td>0.026699</td>\n",
       "      <td>0.022754</td>\n",
       "      <td>0.013259</td>\n",
       "      <td>0.677949</td>\n",
       "    </tr>\n",
       "    <tr>\n",
       "      <th>2</th>\n",
       "      <td>3</td>\n",
       "      <td>0.029057</td>\n",
       "      <td>0.025326</td>\n",
       "      <td>0.003490</td>\n",
       "      <td>0.676631</td>\n",
       "    </tr>\n",
       "  </tbody>\n",
       "</table>\n",
       "</div>"
      ],
      "text/plain": [
       "   iteration        w1        w2  euclid_distance      loss\n",
       "0          1  0.035731  0.032460         0.048274  0.673119\n",
       "1          2  0.026699  0.022754         0.013259  0.677949\n",
       "2          3  0.029057  0.025326         0.003490  0.676631"
      ]
     },
     "execution_count": 19,
     "metadata": {},
     "output_type": "execute_result"
    }
   ],
   "source": [
    "history.head(3)"
   ]
  },
  {
   "cell_type": "code",
   "execution_count": 20,
   "metadata": {},
   "outputs": [
    {
     "data": {
      "image/png": "[encoded data removed]",
      "text/plain": [
       "<Figure size 1008x432 with 1 Axes>"
      ]
     },
     "metadata": {
      "needs_background": "light"
     },
     "output_type": "display_data"
    }
   ],
   "source": [
    "gd.show_loss_history()"
   ]
  },
  {
   "cell_type": "markdown",
   "metadata": {},
   "source": [
    "### As it can be seen regularization (l2) increases the speed of convergence to the optimal weights and accuracy of prediction in our case ROC-AUC score"
   ]
  }
 ],
 "metadata": {
  "kernelspec": {
   "display_name": "Python 3",
   "language": "python",
   "name": "python3"
  },
  "language_info": {
   "codemirror_mode": {
    "name": "ipython",
    "version": 3
   },
   "file_extension": ".py",
   "mimetype": "text/x-python",
   "name": "python",
   "nbconvert_exporter": "python",
   "pygments_lexer": "ipython3",
   "version": "3.6.5"
  }
 },
 "nbformat": 4,
 "nbformat_minor": 4
}
